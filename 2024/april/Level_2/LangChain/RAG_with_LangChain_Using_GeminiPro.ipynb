{
  "nbformat": 4,
  "nbformat_minor": 0,
  "metadata": {
    "colab": {
      "provenance": [],
      "authorship_tag": "ABX9TyO2wFkZ+z27MiKuvule47Jn",
      "include_colab_link": true
    },
    "kernelspec": {
      "name": "python3",
      "display_name": "Python 3"
    },
    "language_info": {
      "name": "python"
    }
  },
  "cells": [
    {
      "cell_type": "markdown",
      "metadata": {
        "id": "view-in-github",
        "colab_type": "text"
      },
      "source": [
        "<a href=\"https://colab.research.google.com/github/edquestofficial/Gen-AI-Cohort/blob/main/2024/april/Level_2/LangChain/RAG_with_LangChain_Using_GeminiPro.ipynb\" target=\"_parent\"><img src=\"https://colab.research.google.com/assets/colab-badge.svg\" alt=\"Open In Colab\"/></a>"
      ]
    },
    {
      "cell_type": "code",
      "execution_count": null,
      "metadata": {
        "id": "zGKgm07zsypV"
      },
      "outputs": [],
      "source": [
        "%pip install --upgrade --quiet  langchain langchain-community langchainhub chromadb bs4 langchain-google-genai"
      ]
    },
    {
      "cell_type": "markdown",
      "source": [
        "## Mount Google Drive"
      ],
      "metadata": {
        "id": "yo40SeSLtAW0"
      }
    },
    {
      "cell_type": "code",
      "source": [
        "from google.colab import drive\n",
        "drive.mount('/content/drive', force_remount=True)"
      ],
      "metadata": {
        "colab": {
          "base_uri": "https://localhost:8080/"
        },
        "id": "FzQtVUM4tDqS",
        "outputId": "1f49bd8b-bb52-48e3-e72a-071da89792db"
      },
      "execution_count": null,
      "outputs": [
        {
          "output_type": "stream",
          "name": "stdout",
          "text": [
            "Mounted at /content/drive\n"
          ]
        }
      ]
    },
    {
      "cell_type": "markdown",
      "source": [
        "## Set `Gemini` API Key"
      ],
      "metadata": {
        "id": "2wrnFPP_tth1"
      }
    },
    {
      "cell_type": "code",
      "source": [
        "import os\n",
        "\n",
        "base_path = \"/content/drive/MyDrive/Gen AI Course/RAG_For_HDFC_Policy\"\n",
        "filepath = f\"{base_path}/gemini_api_key.txt\"\n",
        "with open(filepath, \"r\") as f:\n",
        "  api_key = ' '.join(f.readlines())\n",
        "  os.environ[\"GOOGLE_API_KEY\"] = api_key"
      ],
      "metadata": {
        "id": "pfZg3NvItSGH"
      },
      "execution_count": null,
      "outputs": []
    },
    {
      "cell_type": "code",
      "source": [
        "import bs4\n",
        "from langchain import hub\n",
        "from langchain_community.document_loaders import WebBaseLoader\n",
        "from langchain_community.vectorstores import Chroma\n",
        "from langchain_core.output_parsers import StrOutputParser\n",
        "from langchain_core.runnables import RunnablePassthrough\n",
        "from langchain_openai import OpenAIEmbeddings\n",
        "from langchain_text_splitters import RecursiveCharacterTextSplitter"
      ],
      "metadata": {
        "id": "6CD6YsA_v_yZ"
      },
      "execution_count": null,
      "outputs": []
    },
    {
      "cell_type": "markdown",
      "source": [
        "## LangChain Document loaders\n",
        "\n",
        "*   PDF\n",
        "*   CSV\n",
        "*   JSON\n",
        "*   HTML etc...\n",
        "\n",
        "[Reference](https://python.langchain.com/docs/modules/data_connection/document_loaders/)"
      ],
      "metadata": {
        "id": "g9lVrkAn4UAR"
      }
    },
    {
      "cell_type": "code",
      "source": [
        "!pip install pypdf"
      ],
      "metadata": {
        "colab": {
          "base_uri": "https://localhost:8080/"
        },
        "id": "CflNOhQdN3Ko",
        "outputId": "3a36afcd-b422-4aca-fab3-ac2df2424f9c"
      },
      "execution_count": null,
      "outputs": [
        {
          "output_type": "stream",
          "name": "stdout",
          "text": [
            "Requirement already satisfied: pypdf in /usr/local/lib/python3.10/dist-packages (4.2.0)\n",
            "Requirement already satisfied: typing_extensions>=4.0 in /usr/local/lib/python3.10/dist-packages (from pypdf) (4.10.0)\n"
          ]
        }
      ]
    },
    {
      "cell_type": "code",
      "source": [
        "from langchain_community.document_loaders import PyPDFLoader\n",
        "\n",
        "pdf_file_path = f\"{base_path}/data/HDFC-Life-Easy-Health-101N110V03-Policy-Bond-Single-Pay.pdf\"\n",
        "loader = PyPDFLoader(pdf_file_path)\n",
        "pages = loader.load_and_split()"
      ],
      "metadata": {
        "id": "4BRsgDJjN20J"
      },
      "execution_count": null,
      "outputs": []
    },
    {
      "cell_type": "code",
      "source": [
        "len(pages)"
      ],
      "metadata": {
        "colab": {
          "base_uri": "https://localhost:8080/"
        },
        "id": "4qglRpy8OjWQ",
        "outputId": "adce14a9-e580-4805-eff6-0f456a3041f4"
      },
      "execution_count": null,
      "outputs": [
        {
          "output_type": "execute_result",
          "data": {
            "text/plain": [
              "39"
            ]
          },
          "metadata": {},
          "execution_count": 54
        }
      ]
    },
    {
      "cell_type": "code",
      "source": [
        "pages[36]"
      ],
      "metadata": {
        "colab": {
          "base_uri": "https://localhost:8080/"
        },
        "id": "XO1bC6Sy6WgZ",
        "outputId": "58ab629f-7d8f-423d-de31-38a7ddc34bec"
      },
      "execution_count": 59,
      "outputs": [
        {
          "output_type": "execute_result",
          "data": {
            "text/plain": [
              "Document(page_content='Annexure IV  \\n \\nSection 38 - Assignment or Transfer of Insurance Policies \\nAssignment or transfer of a Policy should be in accordance with Section 38 of the Insurance Act, 1938 as \\namended by Insurance Laws (Amendment) Act, 2015 dated 23.03.2015. The extant provisions in this regard are \\nas follows: \\n \\n(1) This Policy may be transferred/ assigned, wholly or in part, with or without consideration. \\n(2) An Assignment may be effected in a Policy by an endorsement upon the Policy itself or by a separate instrument \\nunder notice to the Insurer. \\n(3) The instrument of assignment should indicate the fact of transfer or assignment and the reasons for the \\nassignment or transfer, antecedents of the assignee and terms on which assignment is made. \\n(4) The assignment must be signed by the transferor or assignor or duly authorized agent and attested by at least one \\nwitness. \\n(5) The transfer or assignment shall not be operative as against an insurer until a notice in writing of the transfer or \\nassignment and either the said endorsement or instrument itself or copy there of certified to be correct by both \\ntransferor and transferee or their duly authorised agents have been delivered to the insurer. \\n(6) Fee to be paid for assignment or transfer can be specified by the Authority through Regulations. \\n(7) On receipt of notice with fee, the insurer should Grant a written acknowledgement of receipt of notice. Such \\nnotice shall be conclusive evidence against the insurer of duly receiving the notice. \\n(8) If the insurer maintains one or more places of business, such notices shall be delivered only at the place where \\nthe Policy is being serviced. \\n(9) The insurer may accept or decline to act upon any transfer or assignment or endorsement, if it has sufficient \\nreasons to believe that it is a. not bonafide or b. not in the interest of the Policyholder or c. not in public interest \\nor d. is for the purpose of trading of the insurance Policy. \\n(10) Before refusing to act upon endorsement, the Insurer should record the reasons in writing and communicate the \\nsame in writing to Policyholder within 30 days from the date of Policyholder giving a notice of transfer or \\nassignment. \\n(11) In case of refusal to act upon the endorsement by the Insurer, any person aggrieved by the refusal may prefer a \\nclaim to IRDAI within 30 days of receipt of the refusal letter from the Insurer. \\n(12) The priority of claims of persons interested in an insurance Policy would depend on the date on which the \\nnotices of assignment or transfer is delivered to the insurer; where there are more than one instruments of \\ntransfer or assignment, the priority will depend on dates of delivery of such notices. Any dispute in this regard \\nas to priority should be referred to Authority. \\n(13) Every assignment or transfer shall be deemed to be absolute assignment or transfer and the assignee or \\ntransferee shall be deemed to be absolute assignee or transferee, except a. where assignment or transfer is \\nsubject to terms and conditions of transfer or assignment OR b. where the transfer or assignment is made upon \\ncondition that i. the proceeds under the Policy shall become payable to Policyholder or nominee(s) in the event \\nof assignee or transferee dying before the insured OR ii. the insured surviving the term of the Policy. Such \\nconditional assignee will not be entitled to obtain a loan on Policy or surrender the Policy. This provision will \\nprevail notwithstanding any law or custom having force of law which is contrary to the above position. \\n(14) In other cases, the insurer shall, subject to terms and conditions of assignment, recognize the transferee or \\nassignee named in the notice as the absolute transferee or assignee and such person a. shall be subject to all \\nliabilities and equities to which the transferor or assignor was subject to at the date of transfer or assignment and', metadata={'source': '/content/drive/MyDrive/Gen AI Course/RAG_For_HDFC_Policy/data/HDFC-Life-Easy-Health-101N110V03-Policy-Bond-Single-Pay.pdf', 'page': 31})"
            ]
          },
          "metadata": {},
          "execution_count": 59
        }
      ]
    },
    {
      "cell_type": "code",
      "source": [
        "pages[37]"
      ],
      "metadata": {
        "colab": {
          "base_uri": "https://localhost:8080/"
        },
        "id": "2Qj3E2Cx7R0N",
        "outputId": "55086281-52af-46aa-9e10-49d41b42b929"
      },
      "execution_count": 61,
      "outputs": [
        {
          "output_type": "execute_result",
          "data": {
            "text/plain": [
              "Document(page_content='liabilities and equities to which the transferor or assignor was subject to at the date of transfer or assignment and \\nb. may institute any proceedings in relation to the Policy c. obtain loan under the Policy or surrender the Policy \\nwithout obtaining the consent of the transferor or assignor or making him a party to the proceedings. \\n(15) Any rights and remedies of an assignee or transferee of a life insurance Policy under an assignment or transfer \\neffected before commencement of the Insurance Laws (Amendment) Act, 2015 shall not be affected by this \\nsection.', metadata={'source': '/content/drive/MyDrive/Gen AI Course/RAG_For_HDFC_Policy/data/HDFC-Life-Easy-Health-101N110V03-Policy-Bond-Single-Pay.pdf', 'page': 31})"
            ]
          },
          "metadata": {},
          "execution_count": 61
        }
      ]
    },
    {
      "cell_type": "markdown",
      "source": [
        "## Generate Embedding Function"
      ],
      "metadata": {
        "id": "SScjDToGOoI-"
      }
    },
    {
      "cell_type": "code",
      "source": [
        "from langchain_google_genai import GoogleGenerativeAIEmbeddings\n",
        "\n",
        "embeddings = GoogleGenerativeAIEmbeddings(model=\"models/embedding-001\")"
      ],
      "metadata": {
        "id": "4Ly8POO2O2JS"
      },
      "execution_count": null,
      "outputs": []
    },
    {
      "cell_type": "markdown",
      "source": [
        "## Store Embedding into `VectorDB`"
      ],
      "metadata": {
        "id": "h9B-BgkyO6sO"
      }
    },
    {
      "cell_type": "code",
      "source": [
        "vectorstore = Chroma.from_documents(documents=pages, embedding=embeddings)"
      ],
      "metadata": {
        "id": "yd3yj0W9PEpo"
      },
      "execution_count": null,
      "outputs": []
    },
    {
      "cell_type": "markdown",
      "source": [
        "## Semantic Search"
      ],
      "metadata": {
        "id": "OpYiCOZfPJIz"
      }
    },
    {
      "cell_type": "code",
      "source": [
        "# Retrieve and generate using the relevant snippets of the blog.\n",
        "retriever = vectorstore.as_retriever(search_kwargs={\"k\": 3})"
      ],
      "metadata": {
        "id": "vQu3cUD8PPFy"
      },
      "execution_count": null,
      "outputs": []
    },
    {
      "cell_type": "code",
      "source": [
        "question = \"what are Daily Hospital Cash Benefit Option\"\n",
        "docs = retriever.get_relevant_documents(question)"
      ],
      "metadata": {
        "id": "aAF87aAvPW8H"
      },
      "execution_count": null,
      "outputs": []
    },
    {
      "cell_type": "code",
      "source": [
        "len(docs)"
      ],
      "metadata": {
        "colab": {
          "base_uri": "https://localhost:8080/"
        },
        "id": "XtLpW4ZQQEx6",
        "outputId": "630f084b-9493-4c77-a111-4503f906667c"
      },
      "execution_count": null,
      "outputs": [
        {
          "output_type": "execute_result",
          "data": {
            "text/plain": [
              "3"
            ]
          },
          "metadata": {},
          "execution_count": 44
        }
      ]
    },
    {
      "cell_type": "code",
      "source": [
        "docs[0]"
      ],
      "metadata": {
        "colab": {
          "base_uri": "https://localhost:8080/"
        },
        "id": "NXK4GNl7QJ1Y",
        "outputId": "4590b449-7ba1-4713-d08a-a8df3f13f1aa"
      },
      "execution_count": null,
      "outputs": [
        {
          "output_type": "execute_result",
          "data": {
            "text/plain": [
              "Document(page_content='Illness or Injury, correction of deformities and defects, diagnosis and cure of diseases, relief of suffering or \\nprolongation of life, performed in a Hospital or Day Care Centre by a Medical Practitioner; \\n(32) Sum Insured  - Sum Insured is the face value of the Policy contracted between you and us. All the \\nmorbidity benefits applicable under the product have been expressed as a proportion of this amount. \\n(33) Surrender  - means complete withdrawal/ termination of the entire Policy;  \\nPart C \\n \\n \\n1. Benefit Description \\nThis product offers the Life Assured an option to choose any 1, 2 or all 3 of the following benefit option(s): \\n• Daily Hospital Cash Benefit Option (DHCB) \\n• Surgical Benefit Option (SB) \\n• Critical Illness Benefit Option (CIB) \\n \\nThus, product offers 7 Plan Options as mentioned below:', metadata={'page': 8, 'source': '/content/drive/MyDrive/Gen AI Course/RAG_For_HDFC_Policy/data/HDFC-Life-Easy-Health-101N110V03-Policy-Bond-Single-Pay.pdf'})"
            ]
          },
          "metadata": {},
          "execution_count": 45
        }
      ]
    },
    {
      "cell_type": "markdown",
      "source": [
        "## Generative Search\n",
        "\n",
        "* prompt hub [reference](https://docs.smith.langchain.com/hub/quickstart)\n",
        "* Output Parser [reference](https://python.langchain.com/docs/modules/model_io/output_parsers/)"
      ],
      "metadata": {
        "id": "ZGjMrnvPQPsP"
      }
    },
    {
      "cell_type": "code",
      "source": [
        "from langchain_google_genai import ChatGoogleGenerativeAI\n",
        "\n",
        "prompt = hub.pull(\"rlm/rag-prompt\")\n",
        "\n",
        "llm = ChatGoogleGenerativeAI(model=\"gemini-pro\")\n",
        "\n",
        "def format_docs(docs):\n",
        "    return \"\\n\\n\".join(doc.page_content for doc in docs)\n",
        "\n",
        "\n",
        "rag_chain = (\n",
        "    {\"context\": retriever | format_docs, \"question\": RunnablePassthrough()}\n",
        "    | prompt\n",
        "    | llm\n",
        "    | StrOutputParser()\n",
        ")"
      ],
      "metadata": {
        "id": "Bid_hVv5wUAh"
      },
      "execution_count": null,
      "outputs": []
    },
    {
      "cell_type": "code",
      "source": [
        "rag_chain.invoke(question)"
      ],
      "metadata": {
        "colab": {
          "base_uri": "https://localhost:8080/",
          "height": 139
        },
        "id": "rtHSfPcEwWNj",
        "outputId": "15a2c06a-8b78-4cb8-c834-79938c503e84"
      },
      "execution_count": null,
      "outputs": [
        {
          "output_type": "execute_result",
          "data": {
            "text/plain": [
              "'Daily Hospital Cash Benefit Option (DHCB) is a benefit option that provides a daily cash benefit to the life assured in the event of hospitalization due to injury, sickness, or disease. The benefit is payable for a maximum period of 20 days in a policy year for non-ICU rooms and 10 days in a policy year for ICU rooms, subject to a maximum limit of 60 days and 30 days during the entire policy term, respectively. The benefit is payable after the completion of each continuous hospitalization for more than 24 hours as a result of injury, sickness, or disease.'"
            ],
            "application/vnd.google.colaboratory.intrinsic+json": {
              "type": "string"
            }
          },
          "metadata": {},
          "execution_count": 47
        }
      ]
    },
    {
      "cell_type": "code",
      "source": [],
      "metadata": {
        "id": "htGbw-EO0luE"
      },
      "execution_count": null,
      "outputs": []
    }
  ]
}