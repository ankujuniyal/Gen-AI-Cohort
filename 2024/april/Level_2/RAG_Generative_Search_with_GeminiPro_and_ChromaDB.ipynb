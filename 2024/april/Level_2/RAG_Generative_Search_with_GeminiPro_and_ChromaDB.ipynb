{
  "nbformat": 4,
  "nbformat_minor": 0,
  "metadata": {
    "colab": {
      "provenance": [],
      "collapsed_sections": [
        "AGleWws8-hBh",
        "BxHpfmXh91Un",
        "7FCyk6pl-HPy"
      ],
      "authorship_tag": "ABX9TyNB/eTAsE/NkapsmW1O6T+j",
      "include_colab_link": true
    },
    "kernelspec": {
      "name": "python3",
      "display_name": "Python 3"
    },
    "language_info": {
      "name": "python"
    }
  },
  "cells": [
    {
      "cell_type": "markdown",
      "metadata": {
        "id": "view-in-github",
        "colab_type": "text"
      },
      "source": [
        "<a href=\"https://colab.research.google.com/github/edquestofficial/Gen-AI-Cohort/blob/main/2024/april/Level_2/RAG_Generative_Search_with_GeminiPro_and_ChromaDB.ipynb\" target=\"_parent\"><img src=\"https://colab.research.google.com/assets/colab-badge.svg\" alt=\"Open In Colab\"/></a>"
      ]
    },
    {
      "cell_type": "markdown",
      "source": [],
      "metadata": {
        "id": "33GXXAQO7c0O"
      }
    },
    {
      "cell_type": "code",
      "source": [
        "!pip install pdfplumber"
      ],
      "metadata": {
        "id": "C-ob_QT87vWh"
      },
      "execution_count": null,
      "outputs": []
    },
    {
      "cell_type": "code",
      "source": [
        "!pip install google.generativeai"
      ],
      "metadata": {
        "id": "_8MRxjgY8672"
      },
      "execution_count": null,
      "outputs": []
    },
    {
      "cell_type": "code",
      "source": [
        "!pip install chromaDB"
      ],
      "metadata": {
        "id": "2LFa9VSf8-Li"
      },
      "execution_count": null,
      "outputs": []
    },
    {
      "cell_type": "markdown",
      "source": [
        "## Mount Google Drive"
      ],
      "metadata": {
        "id": "mbqfC0qb7cT5"
      }
    },
    {
      "cell_type": "code",
      "execution_count": 1,
      "metadata": {
        "colab": {
          "base_uri": "https://localhost:8080/"
        },
        "id": "AeOI3yqz7Mzh",
        "outputId": "0a9f9fcb-94a3-4562-a9ea-9d831cb21e9d"
      },
      "outputs": [
        {
          "output_type": "stream",
          "name": "stdout",
          "text": [
            "Mounted at /content/drive\n"
          ]
        }
      ],
      "source": [
        "from google.colab import drive\n",
        "drive.mount('/content/drive', force_remount=True)"
      ]
    },
    {
      "cell_type": "code",
      "source": [
        "import os\n",
        "\n",
        "base_path = \"/content/drive/MyDrive/Gen AI Course/RAG_For_HDFC_Policy\"\n",
        "filepath = f\"{base_path}/gemini_api_key.txt\"\n",
        "with open(filepath, \"r\") as f:\n",
        "  api_key = ' '.join(f.readlines())\n",
        "  os.environ[\"GEMINI_API_KEY\"] = api_key"
      ],
      "metadata": {
        "id": "eI7Z67WD7f6W"
      },
      "execution_count": 21,
      "outputs": []
    },
    {
      "cell_type": "markdown",
      "source": [
        "## Read Document and Create <b>Chunks</b>"
      ],
      "metadata": {
        "id": "mKnxXspv70Gt"
      }
    },
    {
      "cell_type": "code",
      "source": [
        "import pdfplumber\n",
        "from pathlib import Path\n",
        "import pandas as pd\n",
        "from operator import itemgetter\n",
        "import json"
      ],
      "metadata": {
        "id": "fGKn_3D07m7q"
      },
      "execution_count": 4,
      "outputs": []
    },
    {
      "cell_type": "code",
      "source": [
        "# Function to extract text from a PDF file.\n",
        "# 1. Declare a variable p to store the iteration of the loop that will help us store page numbers alongside the text\n",
        "# 2. Declare an empty list 'full_text' to store all the text files\n",
        "# 3. Use pdfplumber to open the pdf pages one by one\n",
        "# 4. Find the tables and their locations in the page\n",
        "# 5. Extract the text from the tables in the variable 'tables'\n",
        "# 6. Extract the regular words by calling the function check_bboxes() and checking whether words are present in the table or not\n",
        "# 7. Use the cluster_objects utility to cluster non-table and table words together so that they retain the same chronology as in the original PDF\n",
        "# 8. Declare an empty list 'lines' to store the page text\n",
        "# 9. If a text element in present in the cluster, append it to 'lines', else if a table element is present, append the table\n",
        "# 10. Append the page number and all lines to full_text, and increment 'p'\n",
        "# 11. When the function has iterated over all pages, return the 'full_text' list\n",
        "\n",
        "def load_text_from_pdf(pdf_path):\n",
        "    full_text = []\n",
        "    p = 1\n",
        "\n",
        "    with pdfplumber.open(pdf_path) as pdf:\n",
        "        for page in pdf.pages:\n",
        "            page_no = f\"page {p}\"\n",
        "            text = page.extract_text()\n",
        "\n",
        "            tables = page.find_tables()\n",
        "            table_bboxes = [i.bbox for i in tables]\n",
        "            tables = [{'table': i.extract(), 'top': i.bbox[1]} for i in tables]\n",
        "            non_table_words = [word for word in page.extract_words() if not any(\n",
        "                [check_bboxes(word, table_bbox) for table_bbox in table_bboxes])]\n",
        "            lines = []\n",
        "\n",
        "            for cluster in pdfplumber.utils.cluster_objects(non_table_words + tables, itemgetter('top'), tolerance=5):\n",
        "\n",
        "                if 'text' in cluster[0]:\n",
        "                    try:\n",
        "                        lines.append(' '.join([i['text'] for i in cluster]))\n",
        "                    except KeyError:\n",
        "                        pass\n",
        "\n",
        "                elif 'table' in cluster[0]:\n",
        "                    lines.append(json.dumps(cluster[0]['table']))\n",
        "\n",
        "            page_text = \" \".join(lines)\n",
        "            full_text.append([page_no, page_text])\n",
        "            p += 1\n",
        "\n",
        "    return full_text"
      ],
      "metadata": {
        "id": "S72ot-Ev72q7"
      },
      "execution_count": 5,
      "outputs": []
    },
    {
      "cell_type": "code",
      "source": [
        "pdf_directory_str = \"/content/drive/MyDrive/Gen AI Course/RAG_For_HDFC_Policy/data\"\n",
        "pdf_directory_path = Path(pdf_directory_str)"
      ],
      "metadata": {
        "id": "bZGQsMdY8SGA"
      },
      "execution_count": 8,
      "outputs": []
    },
    {
      "cell_type": "code",
      "source": [
        "# Function to check whether a word is present in a table or not for segregation of regular text and tables\n",
        "\n",
        "def check_bboxes(word, table_bbox):\n",
        "    # Check whether word is inside a table bbox.\n",
        "    l = word['x0'], word['top'], word['x1'], word['bottom']\n",
        "    r = table_bbox\n",
        "    return l[0] > r[0] and l[1] > r[1] and l[2] < r[2] and l[3] < r[3]"
      ],
      "metadata": {
        "id": "6v9UH7jy8VaQ"
      },
      "execution_count": 9,
      "outputs": []
    },
    {
      "cell_type": "code",
      "source": [
        "# Define the directory containing the PDF files\n",
        "pdf_directory = Path(pdf_directory_path)\n",
        "\n",
        "# Initialize an empty list to store the extracted texts and document names\n",
        "data = []\n",
        "\n",
        "# Loop through all files in the directory\n",
        "for pdf_path in pdf_directory.glob(\"*.pdf\"):\n",
        "\n",
        "    # Process the PDF file\n",
        "    print(f\"...Processing {pdf_path.name}\")\n",
        "\n",
        "    # Call the function to extract the text from the PDF\n",
        "    extracted_text = load_text_from_pdf(pdf_path)\n",
        "\n",
        "    # Convert the extracted list to a PDF, and add a column to store document names\n",
        "    extracted_text_df = pd.DataFrame(extracted_text, columns=['Page No.', 'Page_Text'])\n",
        "    extracted_text_df['Document Name'] = pdf_path.name\n",
        "\n",
        "    # Append the extracted text and document name to the list\n",
        "    data.append(extracted_text_df)\n",
        "\n",
        "    # Print a message to indicate progress\n",
        "    print(f\"Finished processing {pdf_path.name}\")\n",
        "\n",
        "# Print a message to indicate all PDFs have been processed\n",
        "print(\"All PDFs have been processed.\")"
      ],
      "metadata": {
        "colab": {
          "base_uri": "https://localhost:8080/"
        },
        "id": "IWDVgxeS8X7D",
        "outputId": "1a629523-b424-4366-fe0e-599ec430d3fd"
      },
      "execution_count": 10,
      "outputs": [
        {
          "output_type": "stream",
          "name": "stdout",
          "text": [
            "...Processing HDFC-Life-Easy-Health-101N110V03-Policy-Bond-Single-Pay.pdf\n",
            "Finished processing HDFC-Life-Easy-Health-101N110V03-Policy-Bond-Single-Pay.pdf\n",
            "All PDFs have been processed.\n"
          ]
        }
      ]
    },
    {
      "cell_type": "code",
      "source": [
        "insurance_pdfs_data = pd.concat(data, ignore_index=True)"
      ],
      "metadata": {
        "id": "qiE8C58b8qdA"
      },
      "execution_count": 11,
      "outputs": []
    },
    {
      "cell_type": "code",
      "source": [
        "insurance_pdfs_data['Text_Length'] = insurance_pdfs_data['Page_Text'].apply(lambda x: len(x.split(' ')))"
      ],
      "metadata": {
        "id": "AeR335Jl8uEL"
      },
      "execution_count": 12,
      "outputs": []
    },
    {
      "cell_type": "code",
      "source": [
        "insurance_pdfs_data = insurance_pdfs_data.loc[insurance_pdfs_data['Text_Length'] >= 10]"
      ],
      "metadata": {
        "id": "GsW78W_E8yHc"
      },
      "execution_count": null,
      "outputs": []
    },
    {
      "cell_type": "code",
      "source": [
        "insurance_pdfs_data.head()"
      ],
      "metadata": {
        "colab": {
          "base_uri": "https://localhost:8080/",
          "height": 310
        },
        "id": "wscs0N8o-wsr",
        "outputId": "217619f0-f36f-4bb4-d8c5-b482085acff5"
      },
      "execution_count": 33,
      "outputs": [
        {
          "output_type": "execute_result",
          "data": {
            "text/plain": [
              "  Page No.                                          Page_Text  \\\n",
              "0   page 1  Part A <<Date>> <<Policyholder’s Name>> <<Poli...   \n",
              "1   page 2  Agency/Intermediary Contact Details: <<Agency/...   \n",
              "2   page 3  POLICY DOCUMENT- HDFC LIFE EASY HEALTH Unique ...   \n",
              "3   page 4  [[null, \"<< dd/mm/yyyy >>\"], [\"Appointee's Add...   \n",
              "4   page 5  Part B Definitions The following capitalised t...   \n",
              "\n",
              "                                       Document Name  Text_Length  \n",
              "0  HDFC-Life-Easy-Health-101N110V03-Policy-Bond-S...          508  \n",
              "1  HDFC-Life-Easy-Health-101N110V03-Policy-Bond-S...           85  \n",
              "2  HDFC-Life-Easy-Health-101N110V03-Policy-Bond-S...          298  \n",
              "3  HDFC-Life-Easy-Health-101N110V03-Policy-Bond-S...           63  \n",
              "4  HDFC-Life-Easy-Health-101N110V03-Policy-Bond-S...          514  "
            ],
            "text/html": [
              "\n",
              "  <div id=\"df-01864f1d-2dff-4e36-8144-3500a5159b86\" class=\"colab-df-container\">\n",
              "    <div>\n",
              "<style scoped>\n",
              "    .dataframe tbody tr th:only-of-type {\n",
              "        vertical-align: middle;\n",
              "    }\n",
              "\n",
              "    .dataframe tbody tr th {\n",
              "        vertical-align: top;\n",
              "    }\n",
              "\n",
              "    .dataframe thead th {\n",
              "        text-align: right;\n",
              "    }\n",
              "</style>\n",
              "<table border=\"1\" class=\"dataframe\">\n",
              "  <thead>\n",
              "    <tr style=\"text-align: right;\">\n",
              "      <th></th>\n",
              "      <th>Page No.</th>\n",
              "      <th>Page_Text</th>\n",
              "      <th>Document Name</th>\n",
              "      <th>Text_Length</th>\n",
              "    </tr>\n",
              "  </thead>\n",
              "  <tbody>\n",
              "    <tr>\n",
              "      <th>0</th>\n",
              "      <td>page 1</td>\n",
              "      <td>Part A &lt;&lt;Date&gt;&gt; &lt;&lt;Policyholder’s Name&gt;&gt; &lt;&lt;Poli...</td>\n",
              "      <td>HDFC-Life-Easy-Health-101N110V03-Policy-Bond-S...</td>\n",
              "      <td>508</td>\n",
              "    </tr>\n",
              "    <tr>\n",
              "      <th>1</th>\n",
              "      <td>page 2</td>\n",
              "      <td>Agency/Intermediary Contact Details: &lt;&lt;Agency/...</td>\n",
              "      <td>HDFC-Life-Easy-Health-101N110V03-Policy-Bond-S...</td>\n",
              "      <td>85</td>\n",
              "    </tr>\n",
              "    <tr>\n",
              "      <th>2</th>\n",
              "      <td>page 3</td>\n",
              "      <td>POLICY DOCUMENT- HDFC LIFE EASY HEALTH Unique ...</td>\n",
              "      <td>HDFC-Life-Easy-Health-101N110V03-Policy-Bond-S...</td>\n",
              "      <td>298</td>\n",
              "    </tr>\n",
              "    <tr>\n",
              "      <th>3</th>\n",
              "      <td>page 4</td>\n",
              "      <td>[[null, \"&lt;&lt; dd/mm/yyyy &gt;&gt;\"], [\"Appointee's Add...</td>\n",
              "      <td>HDFC-Life-Easy-Health-101N110V03-Policy-Bond-S...</td>\n",
              "      <td>63</td>\n",
              "    </tr>\n",
              "    <tr>\n",
              "      <th>4</th>\n",
              "      <td>page 5</td>\n",
              "      <td>Part B Definitions The following capitalised t...</td>\n",
              "      <td>HDFC-Life-Easy-Health-101N110V03-Policy-Bond-S...</td>\n",
              "      <td>514</td>\n",
              "    </tr>\n",
              "  </tbody>\n",
              "</table>\n",
              "</div>\n",
              "    <div class=\"colab-df-buttons\">\n",
              "\n",
              "  <div class=\"colab-df-container\">\n",
              "    <button class=\"colab-df-convert\" onclick=\"convertToInteractive('df-01864f1d-2dff-4e36-8144-3500a5159b86')\"\n",
              "            title=\"Convert this dataframe to an interactive table.\"\n",
              "            style=\"display:none;\">\n",
              "\n",
              "  <svg xmlns=\"http://www.w3.org/2000/svg\" height=\"24px\" viewBox=\"0 -960 960 960\">\n",
              "    <path d=\"M120-120v-720h720v720H120Zm60-500h600v-160H180v160Zm220 220h160v-160H400v160Zm0 220h160v-160H400v160ZM180-400h160v-160H180v160Zm440 0h160v-160H620v160ZM180-180h160v-160H180v160Zm440 0h160v-160H620v160Z\"/>\n",
              "  </svg>\n",
              "    </button>\n",
              "\n",
              "  <style>\n",
              "    .colab-df-container {\n",
              "      display:flex;\n",
              "      gap: 12px;\n",
              "    }\n",
              "\n",
              "    .colab-df-convert {\n",
              "      background-color: #E8F0FE;\n",
              "      border: none;\n",
              "      border-radius: 50%;\n",
              "      cursor: pointer;\n",
              "      display: none;\n",
              "      fill: #1967D2;\n",
              "      height: 32px;\n",
              "      padding: 0 0 0 0;\n",
              "      width: 32px;\n",
              "    }\n",
              "\n",
              "    .colab-df-convert:hover {\n",
              "      background-color: #E2EBFA;\n",
              "      box-shadow: 0px 1px 2px rgba(60, 64, 67, 0.3), 0px 1px 3px 1px rgba(60, 64, 67, 0.15);\n",
              "      fill: #174EA6;\n",
              "    }\n",
              "\n",
              "    .colab-df-buttons div {\n",
              "      margin-bottom: 4px;\n",
              "    }\n",
              "\n",
              "    [theme=dark] .colab-df-convert {\n",
              "      background-color: #3B4455;\n",
              "      fill: #D2E3FC;\n",
              "    }\n",
              "\n",
              "    [theme=dark] .colab-df-convert:hover {\n",
              "      background-color: #434B5C;\n",
              "      box-shadow: 0px 1px 3px 1px rgba(0, 0, 0, 0.15);\n",
              "      filter: drop-shadow(0px 1px 2px rgba(0, 0, 0, 0.3));\n",
              "      fill: #FFFFFF;\n",
              "    }\n",
              "  </style>\n",
              "\n",
              "    <script>\n",
              "      const buttonEl =\n",
              "        document.querySelector('#df-01864f1d-2dff-4e36-8144-3500a5159b86 button.colab-df-convert');\n",
              "      buttonEl.style.display =\n",
              "        google.colab.kernel.accessAllowed ? 'block' : 'none';\n",
              "\n",
              "      async function convertToInteractive(key) {\n",
              "        const element = document.querySelector('#df-01864f1d-2dff-4e36-8144-3500a5159b86');\n",
              "        const dataTable =\n",
              "          await google.colab.kernel.invokeFunction('convertToInteractive',\n",
              "                                                    [key], {});\n",
              "        if (!dataTable) return;\n",
              "\n",
              "        const docLinkHtml = 'Like what you see? Visit the ' +\n",
              "          '<a target=\"_blank\" href=https://colab.research.google.com/notebooks/data_table.ipynb>data table notebook</a>'\n",
              "          + ' to learn more about interactive tables.';\n",
              "        element.innerHTML = '';\n",
              "        dataTable['output_type'] = 'display_data';\n",
              "        await google.colab.output.renderOutput(dataTable, element);\n",
              "        const docLink = document.createElement('div');\n",
              "        docLink.innerHTML = docLinkHtml;\n",
              "        element.appendChild(docLink);\n",
              "      }\n",
              "    </script>\n",
              "  </div>\n",
              "\n",
              "\n",
              "<div id=\"df-8ed7d082-4f05-4e35-a1fc-90f322c7730b\">\n",
              "  <button class=\"colab-df-quickchart\" onclick=\"quickchart('df-8ed7d082-4f05-4e35-a1fc-90f322c7730b')\"\n",
              "            title=\"Suggest charts\"\n",
              "            style=\"display:none;\">\n",
              "\n",
              "<svg xmlns=\"http://www.w3.org/2000/svg\" height=\"24px\"viewBox=\"0 0 24 24\"\n",
              "     width=\"24px\">\n",
              "    <g>\n",
              "        <path d=\"M19 3H5c-1.1 0-2 .9-2 2v14c0 1.1.9 2 2 2h14c1.1 0 2-.9 2-2V5c0-1.1-.9-2-2-2zM9 17H7v-7h2v7zm4 0h-2V7h2v10zm4 0h-2v-4h2v4z\"/>\n",
              "    </g>\n",
              "</svg>\n",
              "  </button>\n",
              "\n",
              "<style>\n",
              "  .colab-df-quickchart {\n",
              "      --bg-color: #E8F0FE;\n",
              "      --fill-color: #1967D2;\n",
              "      --hover-bg-color: #E2EBFA;\n",
              "      --hover-fill-color: #174EA6;\n",
              "      --disabled-fill-color: #AAA;\n",
              "      --disabled-bg-color: #DDD;\n",
              "  }\n",
              "\n",
              "  [theme=dark] .colab-df-quickchart {\n",
              "      --bg-color: #3B4455;\n",
              "      --fill-color: #D2E3FC;\n",
              "      --hover-bg-color: #434B5C;\n",
              "      --hover-fill-color: #FFFFFF;\n",
              "      --disabled-bg-color: #3B4455;\n",
              "      --disabled-fill-color: #666;\n",
              "  }\n",
              "\n",
              "  .colab-df-quickchart {\n",
              "    background-color: var(--bg-color);\n",
              "    border: none;\n",
              "    border-radius: 50%;\n",
              "    cursor: pointer;\n",
              "    display: none;\n",
              "    fill: var(--fill-color);\n",
              "    height: 32px;\n",
              "    padding: 0;\n",
              "    width: 32px;\n",
              "  }\n",
              "\n",
              "  .colab-df-quickchart:hover {\n",
              "    background-color: var(--hover-bg-color);\n",
              "    box-shadow: 0 1px 2px rgba(60, 64, 67, 0.3), 0 1px 3px 1px rgba(60, 64, 67, 0.15);\n",
              "    fill: var(--button-hover-fill-color);\n",
              "  }\n",
              "\n",
              "  .colab-df-quickchart-complete:disabled,\n",
              "  .colab-df-quickchart-complete:disabled:hover {\n",
              "    background-color: var(--disabled-bg-color);\n",
              "    fill: var(--disabled-fill-color);\n",
              "    box-shadow: none;\n",
              "  }\n",
              "\n",
              "  .colab-df-spinner {\n",
              "    border: 2px solid var(--fill-color);\n",
              "    border-color: transparent;\n",
              "    border-bottom-color: var(--fill-color);\n",
              "    animation:\n",
              "      spin 1s steps(1) infinite;\n",
              "  }\n",
              "\n",
              "  @keyframes spin {\n",
              "    0% {\n",
              "      border-color: transparent;\n",
              "      border-bottom-color: var(--fill-color);\n",
              "      border-left-color: var(--fill-color);\n",
              "    }\n",
              "    20% {\n",
              "      border-color: transparent;\n",
              "      border-left-color: var(--fill-color);\n",
              "      border-top-color: var(--fill-color);\n",
              "    }\n",
              "    30% {\n",
              "      border-color: transparent;\n",
              "      border-left-color: var(--fill-color);\n",
              "      border-top-color: var(--fill-color);\n",
              "      border-right-color: var(--fill-color);\n",
              "    }\n",
              "    40% {\n",
              "      border-color: transparent;\n",
              "      border-right-color: var(--fill-color);\n",
              "      border-top-color: var(--fill-color);\n",
              "    }\n",
              "    60% {\n",
              "      border-color: transparent;\n",
              "      border-right-color: var(--fill-color);\n",
              "    }\n",
              "    80% {\n",
              "      border-color: transparent;\n",
              "      border-right-color: var(--fill-color);\n",
              "      border-bottom-color: var(--fill-color);\n",
              "    }\n",
              "    90% {\n",
              "      border-color: transparent;\n",
              "      border-bottom-color: var(--fill-color);\n",
              "    }\n",
              "  }\n",
              "</style>\n",
              "\n",
              "  <script>\n",
              "    async function quickchart(key) {\n",
              "      const quickchartButtonEl =\n",
              "        document.querySelector('#' + key + ' button');\n",
              "      quickchartButtonEl.disabled = true;  // To prevent multiple clicks.\n",
              "      quickchartButtonEl.classList.add('colab-df-spinner');\n",
              "      try {\n",
              "        const charts = await google.colab.kernel.invokeFunction(\n",
              "            'suggestCharts', [key], {});\n",
              "      } catch (error) {\n",
              "        console.error('Error during call to suggestCharts:', error);\n",
              "      }\n",
              "      quickchartButtonEl.classList.remove('colab-df-spinner');\n",
              "      quickchartButtonEl.classList.add('colab-df-quickchart-complete');\n",
              "    }\n",
              "    (() => {\n",
              "      let quickchartButtonEl =\n",
              "        document.querySelector('#df-8ed7d082-4f05-4e35-a1fc-90f322c7730b button');\n",
              "      quickchartButtonEl.style.display =\n",
              "        google.colab.kernel.accessAllowed ? 'block' : 'none';\n",
              "    })();\n",
              "  </script>\n",
              "</div>\n",
              "\n",
              "    </div>\n",
              "  </div>\n"
            ],
            "application/vnd.google.colaboratory.intrinsic+json": {
              "type": "dataframe",
              "variable_name": "insurance_pdfs_data",
              "summary": "{\n  \"name\": \"insurance_pdfs_data\",\n  \"rows\": 32,\n  \"fields\": [\n    {\n      \"column\": \"Page No.\",\n      \"properties\": {\n        \"dtype\": \"string\",\n        \"num_unique_values\": 32,\n        \"samples\": [\n          \"page 31\",\n          \"page 17\",\n          \"page 26\"\n        ],\n        \"semantic_type\": \"\",\n        \"description\": \"\"\n      }\n    },\n    {\n      \"column\": \"Page_Text\",\n      \"properties\": {\n        \"dtype\": \"string\",\n        \"num_unique_values\": 31,\n        \"samples\": [\n          \"Annexure II Section 39 - Nomination by Policyholder Nomination of a life insurance Policy is as below in accordance with Section 39 of the Insurance Act, 1938 as amended by Insurance Laws (Amendment) Act, 2015 dated 23.03.2015. The extant provisions in this regard are as follows: (1) The Policyholder of a life insurance on his own life may nominate a person or persons to whom money secured by the Policy shall be paid in the event of his death. (2) Where the nominee is a minor, the Policyholder may appoint any person to receive the money secured by the Policy in the event of Policyholder\\u2019s death during the minority of the nominee. The manner of appointment to be laid down by the insurer. (3) Nomination can be made at any time before the maturity of the Policy. (4) Nomination may be incorporated in the text of the Policy itself or may be endorsed on the Policy communicated to the insurer and can be registered by the insurer in the records relating to the Policy. (5) Nomination can be cancelled or changed at any time before Policy matures, by an endorsement or a further endorsement or a will as the case may be. (6) A notice in writing of Change or Cancellation of nomination must be delivered to the insurer for the insurer to be liable to such nominee. Otherwise, insurer will not be liable if a bonafide payment is made to the person named in the text of the Policy or in the registered records of the insurer. (7) Fee to be paid to the insurer for registering change or cancellation of a nomination can be specified by the Authority through Regulations. (8) On receipt of notice with fee, the insurer should grant a written acknowledgement to the Policyholder of having registered a nomination or cancellation or change thereof. (9) A transfer or assignment made in accordance with Section 38 shall automatically cancel the nomination except in case of assignment to the insurer or other transferee or assignee for purpose of loan or against security or its reassignment after repayment. In such case, the nomination will not get cancelled to the extent of insurer\\u2019s or transferee\\u2019s or assignee\\u2019s interest in the Policy. The nomination will get revived on repayment of the loan. (10) The right of any creditor to be paid out of the proceeds of any Policy of life insurance shall not be affected by the nomination. (11) In case of nomination by Policyholder whose life is insured, if the nominees die before the Policyholder, the proceeds are payable to Policyholder or his heirs or legal representatives or holder of succession certificate. (12) In case nominee(s) survive the person whose life is insured, the amount secured by the Policy shall be paid to such survivor(s). (13) Where the Policyholder whose life is insured nominates his a. parents or b. spouse or c. children or d. spouse and children e. or any of them the nominees are beneficially entitled to the amount payable by the insurer to the Policyholder unless it is proved that Policyholder could not have conferred such beneficial title on the nominee having regard to the nature of his title. (14) If nominee(s) die after the Policyholder but before his share of the amount secured under the Policy is paid, the share of the expired nominee(s) shall be payable to the heirs or legal representative of the nominee or holder of succession certificate of such nominee(s). (15) The provisions of sub-section 7 and 8 (13 and 14 above) shall apply to all life insurance policies maturing for payment after the commencement of Insurance Laws (Amendment) Act, 2015 (i.e 23.03.2015 ). (16) If Policyholder dies after maturity but the proceeds and benefit of the Policy has not been paid to him because of his death, his nominee(s) shall be entitled to the proceeds and benefit of the Policy. (17) The provisions of Section 39 are not applicable to any life insurance Policy to which Section 6 of Married Women\\u2019s Property Act, 1874 applies or has at any time applied except where before or after Insurance Laws (Amendment) Act, 2015, a nomination is made in favour of spouse or children or spouse and children whether or not on the face of the Policy it is mentioned that it is made under Section 39. Where nomination is intended to be made to spouse or children or spouse and children under Section 6 of MWP Act, it should be specifically mentioned on the Policy. In such a case only, the provisions of Section 39 will not apply.\",\n          \"7. Routine eye tests, any Dental Treatment or Surgery of cosmetic nature, extraction of impacted tooth/teeth, orthodontics or orthognathic surgery, or tempero-mandibular joint disorder except as necessitated by an accidental injury and warranting Hospitalization; 8. Outpatient treatment; 9. Hospitalization and/or Surgery relating to infertility or impotency, sex change or any treatment related to it, abortion, sterilization and contraception including any complications relating thereto; 10. Hospitalization and/or Surgery for treatment arising from pregnancy and it\\u2019s complications which shall include childbirth or miscarriage; 11. Hospitalisation primarily for any purpose which in routine could have been carried out on an out- patient basis and which is not followed by an active treatment or intervention during the period of Hospitalization; 12. Experimental or unproven procedures or treatments, devices or pharmacological regimens of any description (not recognized by Indian Medical Council) or Hospitalization for treatment under any system other than allopathy; 13. Convalescence, rest cure, sanatorium treatment, rehabilitation measures, respite care, long term nursing care or custodial care and general debility or exhaustion (run down condition); 14. Directly or indirectly arising from alcohol, drug unless taken in accordance to the dosage and duration as prescribed by the independent Medical Practitioner, or substance abuse and any Illness or accidental physical injury which may be suffered after consumption of intoxicating substances, liquors or drugs; 15. Directly or indirectly arising from or consequent upon war, invasion, acts of foreign enemies, hostilities (whether war be declared or not), civil war, terrorism, rebellion, active participation in strikes, riots or civil commotion, revolution, insurrection or military or usurped power, and; 16. Cosmetic or plastic Surgery except to the extent that such Surgery is necessary for the repair of damage caused solely by accidental injuries, cancer or burns; 17. Treatment of xanthelesema, acne and alopecia; circumcision unless necessary for treatment of a disease or necessitated due to an Accident 18. Nuclear disaster, radioactive contamination and/or release of nuclear or atomic energy; 19. Injury or Illness caused by intentionally self-inflicted injuries; or any attempts of suicide while sane or insane; or deliberate exposure to exceptional danger (except in an attempt to save human life); 20. Injury or Illness caused by violation or attempted violation of the law, or resistance to arrest; or by active participation in an act with criminal intent. 21. Injury or Illness caused by professional sports, racing of any kind, scuba diving, aerial sports, activities such as hand-gliding, ballooning, and any other hazardous activities or sports unless agreed by special endorsement; 22. Hospitalization where the Life Assured is a donor for any organ transplant; 23. Any injury, sickness or disease received as a result of aviation, gliding or any form of aerial flight other than other than on a scheduled commercial airline as a bona fide passenger (whether fare paying or not), pilot or crew member; 24. Treatment to relieve symptoms caused by ageing, puberty, or other natural physiological cause, such as menopause and hearing loss caused by maturing or ageing; 25. Artificial life maintenance, including life support machine use, where such treatment will not result in recovery or restoration of the previous state of health; 26. Treatment of abnormalities, deformities, or Illnesses present only because they have been passed down through the generations of the family; In addition to the above, no Critical Illness Benefit will be payable for any of the following: 1. Date of diagnosis within 90 days from Date of Commencement of the Policy; 2. Critical Illness Benefit, where death occurs within 30 days of the date of diagnosis; 3. More than one claim in respect of Critical Illness Benefit; 4. Non-fulfilment of eligibility criteria for Critical Illness Benefit covered under the Policy. 3. Assignment or Transfer\",\n          \"iii. after expiry of a period of one month from the date of sending the written representation to the Company if the Company fails to furnish reply to the complainant. 4) The Ombudsman shall be empowered to condone the delay in such cases as he may consider necessary, after calling for objections of the Company against the proposed condonation and after recording reasons for condoning the delay and in case the delay is condoned, the date of condonation of delay shall be deemed to be the date of filing of the complaint, for further proceedings under these rules. 5) No complaint before the Insurance Ombudsman shall be maintainable on the same subject matter on which proceedings are pending before or disposed of by any court or consumer forum or arbitrator.\"\n        ],\n        \"semantic_type\": \"\",\n        \"description\": \"\"\n      }\n    },\n    {\n      \"column\": \"Document Name\",\n      \"properties\": {\n        \"dtype\": \"category\",\n        \"num_unique_values\": 1,\n        \"samples\": [\n          \"HDFC-Life-Easy-Health-101N110V03-Policy-Bond-Single-Pay.pdf\"\n        ],\n        \"semantic_type\": \"\",\n        \"description\": \"\"\n      }\n    },\n    {\n      \"column\": \"Text_Length\",\n      \"properties\": {\n        \"dtype\": \"number\",\n        \"std\": 275,\n        \"min\": 16,\n        \"max\": 994,\n        \"num_unique_values\": 31,\n        \"samples\": [\n          766\n        ],\n        \"semantic_type\": \"\",\n        \"description\": \"\"\n      }\n    }\n  ]\n}"
            }
          },
          "metadata": {},
          "execution_count": 33
        }
      ]
    },
    {
      "cell_type": "markdown",
      "source": [
        "## Create Embeddings and store them in Vector DB"
      ],
      "metadata": {
        "id": "AGleWws8-hBh"
      }
    },
    {
      "cell_type": "code",
      "source": [
        "import google.generativeai as genai\n",
        "from chromadb import Documents, EmbeddingFunction, Embeddings\n",
        "import os"
      ],
      "metadata": {
        "id": "owo6UF5Q83Tp"
      },
      "execution_count": 16,
      "outputs": []
    },
    {
      "cell_type": "code",
      "source": [
        "# Define the path where chroma collections will be stored\n",
        "\n",
        "chroma_data_path = '/content/drive/MyDrive/Gen AI Course/Open AI/ChromaDB_Data'"
      ],
      "metadata": {
        "id": "70LLnLtE9JS5"
      },
      "execution_count": 17,
      "outputs": []
    },
    {
      "cell_type": "code",
      "source": [
        "class GeminiEmbeddingFunction(EmbeddingFunction):\n",
        "  def __call__(self, input: Documents) -> Embeddings:\n",
        "    gemini_api_key = os.getenv(\"GEMINI_API_KEY\")\n",
        "    if not gemini_api_key:\n",
        "      raise ValueError(\"Gemini API Key not provided. Please provide GEMINI_API_KEY as an environment variable\")\n",
        "    genai.configure(api_key=gemini_api_key)\n",
        "    model = \"models/embedding-001\"\n",
        "    title = \"Custom query\"\n",
        "    return genai.embed_content(model=model,content=input, task_type=\"retrieval_document\",title=title)[\"embedding\"]"
      ],
      "metadata": {
        "id": "r490p3T99MD1"
      },
      "execution_count": 18,
      "outputs": []
    },
    {
      "cell_type": "code",
      "source": [
        "import chromadb\n",
        "\n",
        "name=\"rag_experiment\"\n",
        "chroma_client = chromadb.PersistentClient()\n",
        "db = chroma_client.create_collection(name=name, embedding_function=GeminiEmbeddingFunction())"
      ],
      "metadata": {
        "id": "bKQVGvM-9OQR"
      },
      "execution_count": 19,
      "outputs": []
    },
    {
      "cell_type": "code",
      "source": [
        "for i, d in enumerate(insurance_pdfs_data[\"Page_Text\"]):\n",
        "   db.add(documents=d, ids=str(i))"
      ],
      "metadata": {
        "id": "0nuWBKXg9Xoy"
      },
      "execution_count": 22,
      "outputs": []
    },
    {
      "cell_type": "code",
      "source": [
        "db = chroma_client.get_collection(name=name, embedding_function=GeminiEmbeddingFunction())"
      ],
      "metadata": {
        "id": "Mgjr17hV9b56"
      },
      "execution_count": 23,
      "outputs": []
    },
    {
      "cell_type": "code",
      "source": [
        "# Let's take a look at the first few entries in the collection\n",
        "\n",
        "db.get(\n",
        "    ids = ['0'],\n",
        "    include = ['embeddings', 'documents', 'metadatas']\n",
        ")"
      ],
      "metadata": {
        "id": "Xp-U48rW9tON"
      },
      "execution_count": null,
      "outputs": []
    },
    {
      "cell_type": "markdown",
      "source": [
        "## Semantic Search"
      ],
      "metadata": {
        "id": "BxHpfmXh91Un"
      }
    },
    {
      "cell_type": "code",
      "source": [
        "# Read the user query\n",
        "\n",
        "user_query = \"what are Daily Hospital Cash Benefit Option\""
      ],
      "metadata": {
        "id": "YU11-Z5p9v1x"
      },
      "execution_count": 25,
      "outputs": []
    },
    {
      "cell_type": "code",
      "source": [
        "def get_semantic_search(collection, query):\n",
        "  results = collection.query(\n",
        "    query_texts=user_query,\n",
        "    n_results=6\n",
        "  )\n",
        "  ids = results[\"ids\"][0]\n",
        "  documents = results[\"documents\"][0]\n",
        "  distances = results[\"distances\"][0]\n",
        "  metadatas = results[\"metadatas\"][0]\n",
        "\n",
        "  results_df = pd.DataFrame({\n",
        "    'IDs': ids,\n",
        "    'Documents': documents,\n",
        "    'Distances': distances,\n",
        "    'Metadatas': metadatas\n",
        "  })\n",
        "\n",
        "  top_3_semantic = results_df.sort_values(by='Distances')\n",
        "  top_3_semantic = top_3_semantic[:3]\n",
        "  return top_3_semantic\n"
      ],
      "metadata": {
        "id": "RUZkI5iB98B5"
      },
      "execution_count": 26,
      "outputs": []
    },
    {
      "cell_type": "code",
      "source": [
        "top_3_semantic = get_semantic_search(db, user_query)"
      ],
      "metadata": {
        "id": "xT0VL7Ad9-jN"
      },
      "execution_count": 27,
      "outputs": []
    },
    {
      "cell_type": "code",
      "source": [
        "top_3_semantic"
      ],
      "metadata": {
        "colab": {
          "base_uri": "https://localhost:8080/",
          "height": 143
        },
        "id": "8TzDLLhf-Atn",
        "outputId": "f5cbb00c-a496-407b-b2dd-b6d4597d1b58"
      },
      "execution_count": 28,
      "outputs": [
        {
          "output_type": "execute_result",
          "data": {
            "text/plain": [
              "  IDs                                          Documents  Distances Metadatas\n",
              "0   9  [[\"Plan option\", \"Benefits covered\"], [\"A\", \"D...   0.391275      None\n",
              "1   8  (16) Intensive Care Unit (ICU) - means an iden...   0.434364      None\n",
              "2  13  Part E (Applicable charges, Fund name, fund op...   0.504596      None"
            ],
            "text/html": [
              "\n",
              "  <div id=\"df-37b23d31-33e4-4056-9123-808b859d2c0e\" class=\"colab-df-container\">\n",
              "    <div>\n",
              "<style scoped>\n",
              "    .dataframe tbody tr th:only-of-type {\n",
              "        vertical-align: middle;\n",
              "    }\n",
              "\n",
              "    .dataframe tbody tr th {\n",
              "        vertical-align: top;\n",
              "    }\n",
              "\n",
              "    .dataframe thead th {\n",
              "        text-align: right;\n",
              "    }\n",
              "</style>\n",
              "<table border=\"1\" class=\"dataframe\">\n",
              "  <thead>\n",
              "    <tr style=\"text-align: right;\">\n",
              "      <th></th>\n",
              "      <th>IDs</th>\n",
              "      <th>Documents</th>\n",
              "      <th>Distances</th>\n",
              "      <th>Metadatas</th>\n",
              "    </tr>\n",
              "  </thead>\n",
              "  <tbody>\n",
              "    <tr>\n",
              "      <th>0</th>\n",
              "      <td>9</td>\n",
              "      <td>[[\"Plan option\", \"Benefits covered\"], [\"A\", \"D...</td>\n",
              "      <td>0.391275</td>\n",
              "      <td>None</td>\n",
              "    </tr>\n",
              "    <tr>\n",
              "      <th>1</th>\n",
              "      <td>8</td>\n",
              "      <td>(16) Intensive Care Unit (ICU) - means an iden...</td>\n",
              "      <td>0.434364</td>\n",
              "      <td>None</td>\n",
              "    </tr>\n",
              "    <tr>\n",
              "      <th>2</th>\n",
              "      <td>13</td>\n",
              "      <td>Part E (Applicable charges, Fund name, fund op...</td>\n",
              "      <td>0.504596</td>\n",
              "      <td>None</td>\n",
              "    </tr>\n",
              "  </tbody>\n",
              "</table>\n",
              "</div>\n",
              "    <div class=\"colab-df-buttons\">\n",
              "\n",
              "  <div class=\"colab-df-container\">\n",
              "    <button class=\"colab-df-convert\" onclick=\"convertToInteractive('df-37b23d31-33e4-4056-9123-808b859d2c0e')\"\n",
              "            title=\"Convert this dataframe to an interactive table.\"\n",
              "            style=\"display:none;\">\n",
              "\n",
              "  <svg xmlns=\"http://www.w3.org/2000/svg\" height=\"24px\" viewBox=\"0 -960 960 960\">\n",
              "    <path d=\"M120-120v-720h720v720H120Zm60-500h600v-160H180v160Zm220 220h160v-160H400v160Zm0 220h160v-160H400v160ZM180-400h160v-160H180v160Zm440 0h160v-160H620v160ZM180-180h160v-160H180v160Zm440 0h160v-160H620v160Z\"/>\n",
              "  </svg>\n",
              "    </button>\n",
              "\n",
              "  <style>\n",
              "    .colab-df-container {\n",
              "      display:flex;\n",
              "      gap: 12px;\n",
              "    }\n",
              "\n",
              "    .colab-df-convert {\n",
              "      background-color: #E8F0FE;\n",
              "      border: none;\n",
              "      border-radius: 50%;\n",
              "      cursor: pointer;\n",
              "      display: none;\n",
              "      fill: #1967D2;\n",
              "      height: 32px;\n",
              "      padding: 0 0 0 0;\n",
              "      width: 32px;\n",
              "    }\n",
              "\n",
              "    .colab-df-convert:hover {\n",
              "      background-color: #E2EBFA;\n",
              "      box-shadow: 0px 1px 2px rgba(60, 64, 67, 0.3), 0px 1px 3px 1px rgba(60, 64, 67, 0.15);\n",
              "      fill: #174EA6;\n",
              "    }\n",
              "\n",
              "    .colab-df-buttons div {\n",
              "      margin-bottom: 4px;\n",
              "    }\n",
              "\n",
              "    [theme=dark] .colab-df-convert {\n",
              "      background-color: #3B4455;\n",
              "      fill: #D2E3FC;\n",
              "    }\n",
              "\n",
              "    [theme=dark] .colab-df-convert:hover {\n",
              "      background-color: #434B5C;\n",
              "      box-shadow: 0px 1px 3px 1px rgba(0, 0, 0, 0.15);\n",
              "      filter: drop-shadow(0px 1px 2px rgba(0, 0, 0, 0.3));\n",
              "      fill: #FFFFFF;\n",
              "    }\n",
              "  </style>\n",
              "\n",
              "    <script>\n",
              "      const buttonEl =\n",
              "        document.querySelector('#df-37b23d31-33e4-4056-9123-808b859d2c0e button.colab-df-convert');\n",
              "      buttonEl.style.display =\n",
              "        google.colab.kernel.accessAllowed ? 'block' : 'none';\n",
              "\n",
              "      async function convertToInteractive(key) {\n",
              "        const element = document.querySelector('#df-37b23d31-33e4-4056-9123-808b859d2c0e');\n",
              "        const dataTable =\n",
              "          await google.colab.kernel.invokeFunction('convertToInteractive',\n",
              "                                                    [key], {});\n",
              "        if (!dataTable) return;\n",
              "\n",
              "        const docLinkHtml = 'Like what you see? Visit the ' +\n",
              "          '<a target=\"_blank\" href=https://colab.research.google.com/notebooks/data_table.ipynb>data table notebook</a>'\n",
              "          + ' to learn more about interactive tables.';\n",
              "        element.innerHTML = '';\n",
              "        dataTable['output_type'] = 'display_data';\n",
              "        await google.colab.output.renderOutput(dataTable, element);\n",
              "        const docLink = document.createElement('div');\n",
              "        docLink.innerHTML = docLinkHtml;\n",
              "        element.appendChild(docLink);\n",
              "      }\n",
              "    </script>\n",
              "  </div>\n",
              "\n",
              "\n",
              "<div id=\"df-88d10930-8362-4c25-a0a2-53f3f034a493\">\n",
              "  <button class=\"colab-df-quickchart\" onclick=\"quickchart('df-88d10930-8362-4c25-a0a2-53f3f034a493')\"\n",
              "            title=\"Suggest charts\"\n",
              "            style=\"display:none;\">\n",
              "\n",
              "<svg xmlns=\"http://www.w3.org/2000/svg\" height=\"24px\"viewBox=\"0 0 24 24\"\n",
              "     width=\"24px\">\n",
              "    <g>\n",
              "        <path d=\"M19 3H5c-1.1 0-2 .9-2 2v14c0 1.1.9 2 2 2h14c1.1 0 2-.9 2-2V5c0-1.1-.9-2-2-2zM9 17H7v-7h2v7zm4 0h-2V7h2v10zm4 0h-2v-4h2v4z\"/>\n",
              "    </g>\n",
              "</svg>\n",
              "  </button>\n",
              "\n",
              "<style>\n",
              "  .colab-df-quickchart {\n",
              "      --bg-color: #E8F0FE;\n",
              "      --fill-color: #1967D2;\n",
              "      --hover-bg-color: #E2EBFA;\n",
              "      --hover-fill-color: #174EA6;\n",
              "      --disabled-fill-color: #AAA;\n",
              "      --disabled-bg-color: #DDD;\n",
              "  }\n",
              "\n",
              "  [theme=dark] .colab-df-quickchart {\n",
              "      --bg-color: #3B4455;\n",
              "      --fill-color: #D2E3FC;\n",
              "      --hover-bg-color: #434B5C;\n",
              "      --hover-fill-color: #FFFFFF;\n",
              "      --disabled-bg-color: #3B4455;\n",
              "      --disabled-fill-color: #666;\n",
              "  }\n",
              "\n",
              "  .colab-df-quickchart {\n",
              "    background-color: var(--bg-color);\n",
              "    border: none;\n",
              "    border-radius: 50%;\n",
              "    cursor: pointer;\n",
              "    display: none;\n",
              "    fill: var(--fill-color);\n",
              "    height: 32px;\n",
              "    padding: 0;\n",
              "    width: 32px;\n",
              "  }\n",
              "\n",
              "  .colab-df-quickchart:hover {\n",
              "    background-color: var(--hover-bg-color);\n",
              "    box-shadow: 0 1px 2px rgba(60, 64, 67, 0.3), 0 1px 3px 1px rgba(60, 64, 67, 0.15);\n",
              "    fill: var(--button-hover-fill-color);\n",
              "  }\n",
              "\n",
              "  .colab-df-quickchart-complete:disabled,\n",
              "  .colab-df-quickchart-complete:disabled:hover {\n",
              "    background-color: var(--disabled-bg-color);\n",
              "    fill: var(--disabled-fill-color);\n",
              "    box-shadow: none;\n",
              "  }\n",
              "\n",
              "  .colab-df-spinner {\n",
              "    border: 2px solid var(--fill-color);\n",
              "    border-color: transparent;\n",
              "    border-bottom-color: var(--fill-color);\n",
              "    animation:\n",
              "      spin 1s steps(1) infinite;\n",
              "  }\n",
              "\n",
              "  @keyframes spin {\n",
              "    0% {\n",
              "      border-color: transparent;\n",
              "      border-bottom-color: var(--fill-color);\n",
              "      border-left-color: var(--fill-color);\n",
              "    }\n",
              "    20% {\n",
              "      border-color: transparent;\n",
              "      border-left-color: var(--fill-color);\n",
              "      border-top-color: var(--fill-color);\n",
              "    }\n",
              "    30% {\n",
              "      border-color: transparent;\n",
              "      border-left-color: var(--fill-color);\n",
              "      border-top-color: var(--fill-color);\n",
              "      border-right-color: var(--fill-color);\n",
              "    }\n",
              "    40% {\n",
              "      border-color: transparent;\n",
              "      border-right-color: var(--fill-color);\n",
              "      border-top-color: var(--fill-color);\n",
              "    }\n",
              "    60% {\n",
              "      border-color: transparent;\n",
              "      border-right-color: var(--fill-color);\n",
              "    }\n",
              "    80% {\n",
              "      border-color: transparent;\n",
              "      border-right-color: var(--fill-color);\n",
              "      border-bottom-color: var(--fill-color);\n",
              "    }\n",
              "    90% {\n",
              "      border-color: transparent;\n",
              "      border-bottom-color: var(--fill-color);\n",
              "    }\n",
              "  }\n",
              "</style>\n",
              "\n",
              "  <script>\n",
              "    async function quickchart(key) {\n",
              "      const quickchartButtonEl =\n",
              "        document.querySelector('#' + key + ' button');\n",
              "      quickchartButtonEl.disabled = true;  // To prevent multiple clicks.\n",
              "      quickchartButtonEl.classList.add('colab-df-spinner');\n",
              "      try {\n",
              "        const charts = await google.colab.kernel.invokeFunction(\n",
              "            'suggestCharts', [key], {});\n",
              "      } catch (error) {\n",
              "        console.error('Error during call to suggestCharts:', error);\n",
              "      }\n",
              "      quickchartButtonEl.classList.remove('colab-df-spinner');\n",
              "      quickchartButtonEl.classList.add('colab-df-quickchart-complete');\n",
              "    }\n",
              "    (() => {\n",
              "      let quickchartButtonEl =\n",
              "        document.querySelector('#df-88d10930-8362-4c25-a0a2-53f3f034a493 button');\n",
              "      quickchartButtonEl.style.display =\n",
              "        google.colab.kernel.accessAllowed ? 'block' : 'none';\n",
              "    })();\n",
              "  </script>\n",
              "</div>\n",
              "\n",
              "  <div id=\"id_b2c512e6-6003-4aec-bc33-533ba40d381e\">\n",
              "    <style>\n",
              "      .colab-df-generate {\n",
              "        background-color: #E8F0FE;\n",
              "        border: none;\n",
              "        border-radius: 50%;\n",
              "        cursor: pointer;\n",
              "        display: none;\n",
              "        fill: #1967D2;\n",
              "        height: 32px;\n",
              "        padding: 0 0 0 0;\n",
              "        width: 32px;\n",
              "      }\n",
              "\n",
              "      .colab-df-generate:hover {\n",
              "        background-color: #E2EBFA;\n",
              "        box-shadow: 0px 1px 2px rgba(60, 64, 67, 0.3), 0px 1px 3px 1px rgba(60, 64, 67, 0.15);\n",
              "        fill: #174EA6;\n",
              "      }\n",
              "\n",
              "      [theme=dark] .colab-df-generate {\n",
              "        background-color: #3B4455;\n",
              "        fill: #D2E3FC;\n",
              "      }\n",
              "\n",
              "      [theme=dark] .colab-df-generate:hover {\n",
              "        background-color: #434B5C;\n",
              "        box-shadow: 0px 1px 3px 1px rgba(0, 0, 0, 0.15);\n",
              "        filter: drop-shadow(0px 1px 2px rgba(0, 0, 0, 0.3));\n",
              "        fill: #FFFFFF;\n",
              "      }\n",
              "    </style>\n",
              "    <button class=\"colab-df-generate\" onclick=\"generateWithVariable('top_3_semantic')\"\n",
              "            title=\"Generate code using this dataframe.\"\n",
              "            style=\"display:none;\">\n",
              "\n",
              "  <svg xmlns=\"http://www.w3.org/2000/svg\" height=\"24px\"viewBox=\"0 0 24 24\"\n",
              "       width=\"24px\">\n",
              "    <path d=\"M7,19H8.4L18.45,9,17,7.55,7,17.6ZM5,21V16.75L18.45,3.32a2,2,0,0,1,2.83,0l1.4,1.43a1.91,1.91,0,0,1,.58,1.4,1.91,1.91,0,0,1-.58,1.4L9.25,21ZM18.45,9,17,7.55Zm-12,3A5.31,5.31,0,0,0,4.9,8.1,5.31,5.31,0,0,0,1,6.5,5.31,5.31,0,0,0,4.9,4.9,5.31,5.31,0,0,0,6.5,1,5.31,5.31,0,0,0,8.1,4.9,5.31,5.31,0,0,0,12,6.5,5.46,5.46,0,0,0,6.5,12Z\"/>\n",
              "  </svg>\n",
              "    </button>\n",
              "    <script>\n",
              "      (() => {\n",
              "      const buttonEl =\n",
              "        document.querySelector('#id_b2c512e6-6003-4aec-bc33-533ba40d381e button.colab-df-generate');\n",
              "      buttonEl.style.display =\n",
              "        google.colab.kernel.accessAllowed ? 'block' : 'none';\n",
              "\n",
              "      buttonEl.onclick = () => {\n",
              "        google.colab.notebook.generateWithVariable('top_3_semantic');\n",
              "      }\n",
              "      })();\n",
              "    </script>\n",
              "  </div>\n",
              "\n",
              "    </div>\n",
              "  </div>\n"
            ],
            "application/vnd.google.colaboratory.intrinsic+json": {
              "type": "dataframe",
              "variable_name": "top_3_semantic",
              "repr_error": "Out of range float values are not JSON compliant: nan"
            }
          },
          "metadata": {},
          "execution_count": 28
        }
      ]
    },
    {
      "cell_type": "markdown",
      "source": [
        "## Generative Search"
      ],
      "metadata": {
        "id": "7FCyk6pl-HPy"
      }
    },
    {
      "cell_type": "code",
      "source": [
        "context = \"\"\n",
        "for doc in top_3_semantic[\"Documents\"]:\n",
        "  context += doc+\"\\n\\n\""
      ],
      "metadata": {
        "id": "hL5hJs4R-Cl3"
      },
      "execution_count": 29,
      "outputs": []
    },
    {
      "cell_type": "code",
      "source": [
        "model = genai.GenerativeModel('gemini-pro')\n",
        "chat = model.start_chat(history = [])"
      ],
      "metadata": {
        "id": "KQ4sxJwj-JaC"
      },
      "execution_count": 30,
      "outputs": []
    },
    {
      "cell_type": "code",
      "source": [
        "prompt = f\"You are a helpful assistant in the tax domain who can effectively answer user queries about tax and documents. user query :{user_query}. please do not use your own knowledge take context from given below contex  {context}\"\n",
        "response = chat.send_message(prompt).text"
      ],
      "metadata": {
        "id": "hpA4eETS-NAT"
      },
      "execution_count": 31,
      "outputs": []
    },
    {
      "cell_type": "code",
      "source": [
        "from IPython.display import Markdown\n",
        "\n",
        "Markdown(response)"
      ],
      "metadata": {
        "colab": {
          "base_uri": "https://localhost:8080/",
          "height": 249
        },
        "id": "9M3hKTD_-PRN",
        "outputId": "96d219c6-2ef5-45b9-f8f9-a04a406fb249"
      },
      "execution_count": 32,
      "outputs": [
        {
          "output_type": "execute_result",
          "data": {
            "text/plain": [
              "<IPython.core.display.Markdown object>"
            ],
            "text/markdown": "The Daily Hospital Cash Benefit Option (DHCB) provides financial assistance to the insured individual in the event of hospitalization due to injury, sickness, or disease. The benefit is paid out daily for the duration of the hospital stay, subject to certain limits and conditions.\n\n**Key Points:**\n\n* The benefit is payable for both ICU and non-ICU hospital admissions.\n* The benefit amount is 1% of the sum insured for non-ICU admissions and 2% of the sum insured for ICU admissions.\n* The maximum payable period is 20 days for non-ICU admissions and 10 days for ICU admissions, with an overall maximum of 60 days and 30 days, respectively, during the entire policy term.\n* A waiting period of 60 days applies before the DHCB benefit can be claimed.\n* The benefit is paid as a lump sum after the completion of each continuous hospitalization for more than 24 hours.\n* The benefit is calculated as follows: Daily Hospital Cash Benefit * (Number of Days admitted - 1)\n* If the maximum benefit limits are reached during the policy term, the DHCB coverage ceases for the remaining policy term, while other benefits (Surgical Benefit and Critical Illness Benefit) remain active."
          },
          "metadata": {},
          "execution_count": 32
        }
      ]
    },
    {
      "cell_type": "code",
      "source": [],
      "metadata": {
        "id": "z-lcYOgx-RxY"
      },
      "execution_count": null,
      "outputs": []
    }
  ]
}