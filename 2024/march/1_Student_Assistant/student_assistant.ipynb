{
  "nbformat": 4,
  "nbformat_minor": 0,
  "metadata": {
    "colab": {
      "provenance": [],
      "collapsed_sections": [
        "sNDrrpG6QW01",
        "tw-C6ZFzL1Vd",
        "2-5QyF5-M4MH"
      ],
      "authorship_tag": "ABX9TyOAeYyhaVWpZVnRNs4244OD",
      "include_colab_link": true
    },
    "kernelspec": {
      "name": "python3",
      "display_name": "Python 3"
    },
    "language_info": {
      "name": "python"
    }
  },
  "cells": [
    {
      "cell_type": "markdown",
      "metadata": {
        "id": "view-in-github",
        "colab_type": "text"
      },
      "source": [
        "<a href=\"https://colab.research.google.com/github/edquestofficial/Gen-AI-Cohort/blob/main/2024/march/1_Student_Assistant/student_assistant.ipynb\" target=\"_parent\"><img src=\"https://colab.research.google.com/assets/colab-badge.svg\" alt=\"Open In Colab\"/></a>"
      ]
    },
    {
      "cell_type": "markdown",
      "source": [
        "# Student Assistant\n",
        "\n",
        "The Student Assistant is a cutting-edge Generative AI project designed to revolutionize the learning experience. Leveraging advanced natural language processing techniques, it acts as a personalized tutor, providing students with instant access to comprehensive explanations, real-time problem-solving assistance, and interactive learning resources.\n",
        "\n",
        "\n",
        "From clarifying complex concepts to offering tailored study recommendations, the Student Assistant empowers learners to achieve their academic goals with confidence and efficiency."
      ],
      "metadata": {
        "id": "C0BnTtyKKkOB"
      }
    },
    {
      "cell_type": "markdown",
      "source": [
        "## Install Dependencies"
      ],
      "metadata": {
        "id": "e4eH0zIFQNPc"
      }
    },
    {
      "cell_type": "code",
      "execution_count": null,
      "metadata": {
        "colab": {
          "base_uri": "https://localhost:8080/"
        },
        "id": "tQ2Gf3t6GlR8",
        "outputId": "5b96c4e6-4734-457e-b713-3067b2464758"
      },
      "outputs": [
        {
          "output_type": "stream",
          "name": "stdout",
          "text": [
            "Requirement already satisfied: google-generativeai in /usr/local/lib/python3.10/dist-packages (0.3.2)\n",
            "Requirement already satisfied: google-ai-generativelanguage==0.4.0 in /usr/local/lib/python3.10/dist-packages (from google-generativeai) (0.4.0)\n",
            "Requirement already satisfied: google-auth in /usr/local/lib/python3.10/dist-packages (from google-generativeai) (2.27.0)\n",
            "Requirement already satisfied: google-api-core in /usr/local/lib/python3.10/dist-packages (from google-generativeai) (2.11.1)\n",
            "Requirement already satisfied: typing-extensions in /usr/local/lib/python3.10/dist-packages (from google-generativeai) (4.10.0)\n",
            "Requirement already satisfied: protobuf in /usr/local/lib/python3.10/dist-packages (from google-generativeai) (3.20.3)\n",
            "Requirement already satisfied: tqdm in /usr/local/lib/python3.10/dist-packages (from google-generativeai) (4.66.2)\n",
            "Requirement already satisfied: proto-plus<2.0.0dev,>=1.22.3 in /usr/local/lib/python3.10/dist-packages (from google-ai-generativelanguage==0.4.0->google-generativeai) (1.23.0)\n",
            "Requirement already satisfied: googleapis-common-protos<2.0.dev0,>=1.56.2 in /usr/local/lib/python3.10/dist-packages (from google-api-core->google-generativeai) (1.62.0)\n",
            "Requirement already satisfied: requests<3.0.0.dev0,>=2.18.0 in /usr/local/lib/python3.10/dist-packages (from google-api-core->google-generativeai) (2.31.0)\n",
            "Requirement already satisfied: cachetools<6.0,>=2.0.0 in /usr/local/lib/python3.10/dist-packages (from google-auth->google-generativeai) (5.3.3)\n",
            "Requirement already satisfied: pyasn1-modules>=0.2.1 in /usr/local/lib/python3.10/dist-packages (from google-auth->google-generativeai) (0.3.0)\n",
            "Requirement already satisfied: rsa<5,>=3.1.4 in /usr/local/lib/python3.10/dist-packages (from google-auth->google-generativeai) (4.9)\n",
            "Requirement already satisfied: grpcio<2.0dev,>=1.33.2 in /usr/local/lib/python3.10/dist-packages (from google-api-core->google-generativeai) (1.62.0)\n",
            "Requirement already satisfied: grpcio-status<2.0.dev0,>=1.33.2 in /usr/local/lib/python3.10/dist-packages (from google-api-core->google-generativeai) (1.48.2)\n",
            "Requirement already satisfied: pyasn1<0.6.0,>=0.4.6 in /usr/local/lib/python3.10/dist-packages (from pyasn1-modules>=0.2.1->google-auth->google-generativeai) (0.5.1)\n",
            "Requirement already satisfied: charset-normalizer<4,>=2 in /usr/local/lib/python3.10/dist-packages (from requests<3.0.0.dev0,>=2.18.0->google-api-core->google-generativeai) (3.3.2)\n",
            "Requirement already satisfied: idna<4,>=2.5 in /usr/local/lib/python3.10/dist-packages (from requests<3.0.0.dev0,>=2.18.0->google-api-core->google-generativeai) (3.6)\n",
            "Requirement already satisfied: urllib3<3,>=1.21.1 in /usr/local/lib/python3.10/dist-packages (from requests<3.0.0.dev0,>=2.18.0->google-api-core->google-generativeai) (2.0.7)\n",
            "Requirement already satisfied: certifi>=2017.4.17 in /usr/local/lib/python3.10/dist-packages (from requests<3.0.0.dev0,>=2.18.0->google-api-core->google-generativeai) (2024.2.2)\n"
          ]
        }
      ],
      "source": [
        "# Install Dependencies\n",
        "\n",
        "!pip install google-generativeai"
      ]
    },
    {
      "cell_type": "markdown",
      "source": [
        "## Basic Setup"
      ],
      "metadata": {
        "id": "zU0vA1NfQRxj"
      }
    },
    {
      "cell_type": "code",
      "source": [
        "import google.generativeai as genai\n",
        "\n",
        "api_key = \"YOUR_API_KEY\"\n",
        "# Configure api_key\n",
        "genai.configure(api_key=api_key)\n",
        "\n",
        "# Define Model Instance\n",
        "model = genai.GenerativeModel('gemini-pro')\n",
        "\n",
        "# Define function, which helps to execute any prompt\n",
        "def execute_prompt(prompt):\n",
        "  response = model.generate_content(prompt)\n",
        "  return response.text"
      ],
      "metadata": {
        "id": "6-uhYmHULDnM"
      },
      "execution_count": null,
      "outputs": []
    },
    {
      "cell_type": "markdown",
      "source": [
        "## Define Question and execute"
      ],
      "metadata": {
        "id": "sNDrrpG6QW01"
      }
    },
    {
      "cell_type": "code",
      "source": [
        "question = \"Find area of a circle ?\"\n",
        "\n",
        "response = execute_prompt(question)"
      ],
      "metadata": {
        "id": "zShRS-ikLdN2"
      },
      "execution_count": null,
      "outputs": []
    },
    {
      "cell_type": "code",
      "source": [
        "from IPython.display import Markdown\n",
        "\n",
        "Markdown(response)"
      ],
      "metadata": {
        "colab": {
          "base_uri": "https://localhost:8080/",
          "height": 279
        },
        "id": "XhxEnrAeLr6N",
        "outputId": "f8a78fdd-2326-42f7-a3d3-c7b5e2455300"
      },
      "execution_count": null,
      "outputs": [
        {
          "output_type": "execute_result",
          "data": {
            "text/plain": [
              "<IPython.core.display.Markdown object>"
            ],
            "text/markdown": "**Formula:**\n\n```\nArea = πr²\n```\n\nwhere:\n\n* **π (pi)** is a mathematical constant approximately equal to 3.14159\n* **r** is the radius of the circle\n\n**Example:**\n\nTo find the area of a circle with a radius of 5 units:\n\n```\nArea = πr²\nArea = π * 5²\nArea = π * 25\nArea ≈ 78.5398\n```\n\nTherefore, the area of the circle is approximately **78.5398 square units**."
          },
          "metadata": {},
          "execution_count": 6
        }
      ]
    },
    {
      "cell_type": "markdown",
      "source": [
        "## Add comprehensive explanation of the topic\n",
        "\n",
        "\n",
        "\n",
        "*   Comprehensive explanation\n",
        "*   Detailed Solution Summary\n",
        "*   Practical Examples\n"
      ],
      "metadata": {
        "id": "tw-C6ZFzL1Vd"
      }
    },
    {
      "cell_type": "code",
      "source": [
        "base_instruction = \"\"\"\n",
        "You're a dedicated student assistant ready to assist students. \\\n",
        "Please provide a comprehensive explanation of the following topic, \\\n",
        "including detailed solution summaries, practical examples,\n",
        "and step-by-step problem-solving methods.\"\"\"\n",
        "\n",
        "question = \"Find area of a circle ?\"\n",
        "\n",
        "prompt = f\"\"\"\n",
        "{base_instruction} \\n\\n {question}\n",
        "\"\"\"\n",
        "print(prompt)"
      ],
      "metadata": {
        "colab": {
          "base_uri": "https://localhost:8080/"
        },
        "id": "_hqdsf3cLwpY",
        "outputId": "8766ecd6-b297-4a83-c436-366e0246c115"
      },
      "execution_count": null,
      "outputs": [
        {
          "output_type": "stream",
          "name": "stdout",
          "text": [
            "\n",
            "\n",
            "You're a dedicated student assistant ready to assist students. Please provide a comprehensive explanation of the following topic, including detailed solution summaries, practical examples,\n",
            "and step-by-step problem-solving methods. \n",
            "\n",
            " Find area of a circle ?\n",
            "\n"
          ]
        }
      ]
    },
    {
      "cell_type": "code",
      "source": [
        "response = execute_prompt(prompt)"
      ],
      "metadata": {
        "id": "dClzZA1SMrZT"
      },
      "execution_count": null,
      "outputs": []
    },
    {
      "cell_type": "code",
      "source": [
        "Markdown(response)"
      ],
      "metadata": {
        "colab": {
          "base_uri": "https://localhost:8080/",
          "height": 540
        },
        "id": "ECdW2MBZMvZ1",
        "outputId": "47af6ad0-f612-47cf-cd21-e5ae8ab7c3fc"
      },
      "execution_count": null,
      "outputs": [
        {
          "output_type": "execute_result",
          "data": {
            "text/plain": [
              "<IPython.core.display.Markdown object>"
            ],
            "text/markdown": "**Topic: Finding the Area of a Circle**\n\n**Formula:**\n\nThe area of a circle is given by the formula:\n\n```\nA = πr²\n```\n\nwhere:\n\n* A is the area of the circle\n* r is the radius of the circle\n* π is a mathematical constant approximately equal to 3.14\n\n**Step-by-Step Problem-Solving Method:**\n\n1. **Identify the radius (r):** The radius is the distance from the center of the circle to any point on the circle.\n2. **Square the radius:** Multiply the radius by itself.\n3. **Multiply by π:** Multiply the squared radius by the constant π.\n4. **The result is the area of the circle.**\n\n**Practical Examples:**\n\n* **Example 1:** To find the area of a circle with a radius of 5 cm, we use the formula:\n\n```\nA = πr² = π(5 cm)² = 25π cm² ≈ 78.5 cm²\n```\n\n* **Example 2:** To find the area of a circle with a diameter of 10 cm, we first find the radius by dividing the diameter by 2:\n\n```\nr = d/2 = 10 cm/2 = 5 cm\n```\n\nThen, we use the formula:\n\n```\nA = πr² = π(5 cm)² = 25π cm² ≈ 78.5 cm²\n```\n\n**Additional Notes:**\n\n* If the circumference of the circle is known instead of the radius, you can find the radius by dividing the circumference by 2π.\n* Area is measured in square units, such as square centimeters (cm²), square meters (m²), or square inches (in²)."
          },
          "metadata": {},
          "execution_count": 9
        }
      ]
    },
    {
      "cell_type": "code",
      "source": [
        "question = \"Find area of a rectangle ?\"\n",
        "\n",
        "prompt = f\"\"\"\n",
        "{base_instruction} \\n\\n {question}\n",
        "\"\"\""
      ],
      "metadata": {
        "id": "zvh6ci8ukQNO"
      },
      "execution_count": null,
      "outputs": []
    },
    {
      "cell_type": "code",
      "source": [
        "response = execute_prompt(prompt)"
      ],
      "metadata": {
        "id": "pVi9JkAdkQRH"
      },
      "execution_count": null,
      "outputs": []
    },
    {
      "cell_type": "code",
      "source": [
        "Markdown(response)"
      ],
      "metadata": {
        "colab": {
          "base_uri": "https://localhost:8080/",
          "height": 738
        },
        "id": "UltVCX9Gk6ag",
        "outputId": "5d7c67ff-a9aa-492d-9bf3-f3eeb65ae1f3"
      },
      "execution_count": null,
      "outputs": [
        {
          "output_type": "execute_result",
          "data": {
            "text/plain": [
              "<IPython.core.display.Markdown object>"
            ],
            "text/markdown": "**Definition of Area:**\n\nThe area of a rectangle is the measure of the two-dimensional space enclosed within its four sides. It is expressed in square units, such as square meters, square centimeters, or square inches.\n\n**Formula to Find the Area of a Rectangle:**\n\nThe formula to find the area of a rectangle is:\n\n```\nArea = Length × Width\n```\n\nwhere:\n\n* Length is the horizontal distance of the rectangle measured from one side to its opposite side.\n* Width is the vertical distance of the rectangle measured from one side to its opposite side.\n\n**Steps to Find the Area of a Rectangle:**\n\n1. **Identify the length and width:** Determine the length and width of the rectangle in the provided measurements.\n2. **Multiply length and width:** Multiply the length by the width to find the area.\n3. **Express in square units:** The final answer should be expressed in appropriate square units, such as square meters or square inches.\n\n**Example 1:**\n\nFind the area of a rectangle that has a length of 5 meters and a width of 3 meters.\n\n* Length = 5 meters\n* Width = 3 meters\n\n**Solution:**\n\n```\nArea = Length × Width\nArea = 5 meters × 3 meters\nArea = 15 square meters\n```\n\n**Example 2:**\n\nFind the area of a rectangle that has a length of 10 centimeters and a width of 6 centimeters.\n\n* Length = 10 centimeters\n* Width = 6 centimeters\n\n**Solution:**\n\n```\nArea = Length × Width\nArea = 10 centimeters × 6 centimeters\nArea = 60 square centimeters\n```\n\n**Additional Notes:**\n\n* If the rectangle is a square, its length and width are equal, so the area formula becomes Area = Side × Side.\n* The units of length and width must be the same in order to express the result in the correct square units.\n* Area is a scalar quantity, meaning it has only magnitude (size). It does not have a direction."
          },
          "metadata": {},
          "execution_count": 12
        }
      ]
    },
    {
      "cell_type": "markdown",
      "source": [
        "## Homework 1\n",
        "\n",
        "\n",
        "\n",
        "*   Area of a rectangle\n",
        "*   Area of a right angle traingle\n",
        "\n"
      ],
      "metadata": {
        "id": "2-5QyF5-M4MH"
      }
    },
    {
      "cell_type": "markdown",
      "source": [],
      "metadata": {
        "id": "s8UsOCrDNsMt"
      }
    },
    {
      "cell_type": "markdown",
      "source": [
        "# Python Teaching Assistant\n",
        "\n",
        "\n",
        "\n",
        "*   Create a Python teaching assistant\n",
        "\n"
      ],
      "metadata": {
        "id": "Fk2IpQnrNkD-"
      }
    },
    {
      "cell_type": "code",
      "source": [
        "base_instuction = \"\"\"\n",
        "You're a dedicated python teaching assistant ready to assist students. \\\n",
        "Offer a comprehensive overview of the methods, \\\n",
        "delineating their functionalities, \\\n",
        "supplying sample code for each, \\\n",
        "and providing guidance on selecting the appropriate method for specific scenarios.\n",
        "\"\"\"\n",
        "\n",
        "question = \"Add two list ?\"\n",
        "\n",
        "prompt = f\"\"\"\n",
        "{base_instuction} \\n\\n {question}\n",
        "\"\"\"\n",
        "\n",
        "print(prompt)"
      ],
      "metadata": {
        "colab": {
          "base_uri": "https://localhost:8080/"
        },
        "id": "X_Ds8QKgMxr8",
        "outputId": "ce052729-f143-4d28-f298-1d0f45762d1c"
      },
      "execution_count": null,
      "outputs": [
        {
          "output_type": "stream",
          "name": "stdout",
          "text": [
            "\n",
            "\n",
            "You're a dedicated python teaching assistant ready to assist students. Offer a comprehensive overview of the methods, delineating their functionalities, supplying sample code for each, and providing guidance on selecting the appropriate method for specific scenarios.\n",
            " \n",
            "\n",
            " Add two list ?\n",
            "\n"
          ]
        }
      ]
    },
    {
      "cell_type": "code",
      "source": [
        "response = execute_prompt(prompt)"
      ],
      "metadata": {
        "id": "oHR0mHKbO6vx"
      },
      "execution_count": null,
      "outputs": []
    },
    {
      "cell_type": "code",
      "source": [
        "Markdown(response)"
      ],
      "metadata": {
        "colab": {
          "base_uri": "https://localhost:8080/",
          "height": 518
        },
        "id": "sYf6gDq1O-U2",
        "outputId": "c105aa37-315f-4549-a675-c22f6b8caa41"
      },
      "execution_count": null,
      "outputs": [
        {
          "output_type": "execute_result",
          "data": {
            "text/plain": [
              "<IPython.core.display.Markdown object>"
            ],
            "text/markdown": "**List Concatenation Methods**\n\nWhen working with lists in Python, you may need to combine or concatenate multiple lists. Python provides several methods to achieve this:\n\n**1. `+` Operator:**\n\nThe `+` operator directly concatenates two lists, creating a new list with the elements of both lists combined:\n\n```python\nlist1 = [1, 2, 3]\nlist2 = [4, 5, 6]\nlist3 = list1 + list2\nprint(list3)  # Output: [1, 2, 3, 4, 5, 6]\n```\n\n**2. `extend()` Method:**\n\nThe `extend()` method appends the elements of one list to the end of another list, modifying the original list:\n\n```python\nlist1 = [1, 2, 3]\nlist2 = [4, 5, 6]\nlist1.extend(list2)\nprint(list1)  # Output: [1, 2, 3, 4, 5, 6]\n```\n\n**3. `list.append()` Method:**\n\nSimilar to `extend()`, the `append()` method appends a single element to the end of the list. However, you must append each element individually:\n\n```python\nlist1 = [1, 2, 3]\nfor element in [4, 5, 6]:\n    list1.append(element)\nprint(list1)  # Output: [1, 2, 3, 4, 5, 6]\n```\n\n**Choosing the Right Method:**\n\n* Use the `+` operator for quick concatenation of two or more lists.\n* Use `extend()` to append the elements of one list to another without creating a new list.\n* Use `list.append()` if you need to append individual elements sequentially."
          },
          "metadata": {},
          "execution_count": 10
        }
      ]
    },
    {
      "cell_type": "markdown",
      "source": [
        "## Homework 2\n",
        "\n",
        "\n",
        "*   Find the second biggest number from a list\n",
        "\n"
      ],
      "metadata": {
        "id": "LgFGDt7cSN57"
      }
    },
    {
      "cell_type": "code",
      "source": [],
      "metadata": {
        "id": "vfPj4ubqPAbm"
      },
      "execution_count": null,
      "outputs": []
    }
  ]
}