{
  "cells": [
    {
      "cell_type": "markdown",
      "metadata": {
        "id": "C0BnTtyKKkOB"
      },
      "source": [
        "# Student Assistant\n",
        "\n",
        "The Student Assistant is a cutting-edge Generative AI project designed to revolutionize the learning experience. Leveraging advanced natural language processing techniques, it acts as a personalized tutor, providing students with instant access to comprehensive explanations, real-time problem-solving assistance, and interactive learning resources.\n",
        "\n",
        "\n",
        "From clarifying complex concepts to offering tailored study recommendations, the Student Assistant empowers learners to achieve their academic goals with confidence and efficiency."
      ]
    },
    {
      "cell_type": "code",
      "execution_count": 1,
      "metadata": {
        "colab": {
          "base_uri": "https://localhost:8080/"
        },
        "id": "tQ2Gf3t6GlR8",
        "outputId": "b2591381-d425-412d-9579-67613421062f"
      },
      "outputs": [
        {
          "name": "stdout",
          "output_type": "stream",
          "text": [
            "Requirement already satisfied: google-generativeai in /usr/local/lib/python3.10/dist-packages (0.5.2)\n",
            "Requirement already satisfied: google-ai-generativelanguage==0.6.2 in /usr/local/lib/python3.10/dist-packages (from google-generativeai) (0.6.2)\n",
            "Requirement already satisfied: google-api-core in /usr/local/lib/python3.10/dist-packages (from google-generativeai) (2.11.1)\n",
            "Requirement already satisfied: google-api-python-client in /usr/local/lib/python3.10/dist-packages (from google-generativeai) (2.84.0)\n",
            "Requirement already satisfied: google-auth>=2.15.0 in /usr/local/lib/python3.10/dist-packages (from google-generativeai) (2.27.0)\n",
            "Requirement already satisfied: protobuf in /usr/local/lib/python3.10/dist-packages (from google-generativeai) (3.20.3)\n",
            "Requirement already satisfied: pydantic in /usr/local/lib/python3.10/dist-packages (from google-generativeai) (2.7.1)\n",
            "Requirement already satisfied: tqdm in /usr/local/lib/python3.10/dist-packages (from google-generativeai) (4.66.4)\n",
            "Requirement already satisfied: typing-extensions in /usr/local/lib/python3.10/dist-packages (from google-generativeai) (4.11.0)\n",
            "Requirement already satisfied: proto-plus<2.0.0dev,>=1.22.3 in /usr/local/lib/python3.10/dist-packages (from google-ai-generativelanguage==0.6.2->google-generativeai) (1.23.0)\n",
            "Requirement already satisfied: cachetools<6.0,>=2.0.0 in /usr/local/lib/python3.10/dist-packages (from google-auth>=2.15.0->google-generativeai) (5.3.3)\n",
            "Requirement already satisfied: pyasn1-modules>=0.2.1 in /usr/local/lib/python3.10/dist-packages (from google-auth>=2.15.0->google-generativeai) (0.4.0)\n",
            "Requirement already satisfied: rsa<5,>=3.1.4 in /usr/local/lib/python3.10/dist-packages (from google-auth>=2.15.0->google-generativeai) (4.9)\n",
            "Requirement already satisfied: googleapis-common-protos<2.0.dev0,>=1.56.2 in /usr/local/lib/python3.10/dist-packages (from google-api-core->google-generativeai) (1.63.0)\n",
            "Requirement already satisfied: requests<3.0.0.dev0,>=2.18.0 in /usr/local/lib/python3.10/dist-packages (from google-api-core->google-generativeai) (2.31.0)\n",
            "Requirement already satisfied: httplib2<1dev,>=0.15.0 in /usr/local/lib/python3.10/dist-packages (from google-api-python-client->google-generativeai) (0.22.0)\n",
            "Requirement already satisfied: google-auth-httplib2>=0.1.0 in /usr/local/lib/python3.10/dist-packages (from google-api-python-client->google-generativeai) (0.1.1)\n",
            "Requirement already satisfied: uritemplate<5,>=3.0.1 in /usr/local/lib/python3.10/dist-packages (from google-api-python-client->google-generativeai) (4.1.1)\n",
            "Requirement already satisfied: annotated-types>=0.4.0 in /usr/local/lib/python3.10/dist-packages (from pydantic->google-generativeai) (0.6.0)\n",
            "Requirement already satisfied: pydantic-core==2.18.2 in /usr/local/lib/python3.10/dist-packages (from pydantic->google-generativeai) (2.18.2)\n",
            "Requirement already satisfied: grpcio<2.0dev,>=1.33.2 in /usr/local/lib/python3.10/dist-packages (from google-api-core->google-generativeai) (1.63.0)\n",
            "Requirement already satisfied: grpcio-status<2.0.dev0,>=1.33.2 in /usr/local/lib/python3.10/dist-packages (from google-api-core->google-generativeai) (1.48.2)\n",
            "Requirement already satisfied: pyparsing!=3.0.0,!=3.0.1,!=3.0.2,!=3.0.3,<4,>=2.4.2 in /usr/local/lib/python3.10/dist-packages (from httplib2<1dev,>=0.15.0->google-api-python-client->google-generativeai) (3.1.2)\n",
            "Requirement already satisfied: pyasn1<0.7.0,>=0.4.6 in /usr/local/lib/python3.10/dist-packages (from pyasn1-modules>=0.2.1->google-auth>=2.15.0->google-generativeai) (0.6.0)\n",
            "Requirement already satisfied: charset-normalizer<4,>=2 in /usr/local/lib/python3.10/dist-packages (from requests<3.0.0.dev0,>=2.18.0->google-api-core->google-generativeai) (3.3.2)\n",
            "Requirement already satisfied: idna<4,>=2.5 in /usr/local/lib/python3.10/dist-packages (from requests<3.0.0.dev0,>=2.18.0->google-api-core->google-generativeai) (3.7)\n",
            "Requirement already satisfied: urllib3<3,>=1.21.1 in /usr/local/lib/python3.10/dist-packages (from requests<3.0.0.dev0,>=2.18.0->google-api-core->google-generativeai) (2.0.7)\n",
            "Requirement already satisfied: certifi>=2017.4.17 in /usr/local/lib/python3.10/dist-packages (from requests<3.0.0.dev0,>=2.18.0->google-api-core->google-generativeai) (2024.2.2)\n"
          ]
        }
      ],
      "source": [
        "# Install Dependencies\n",
        "\n",
        "!pip install google-generativeai"
      ]
    },
    {
      "cell_type": "code",
      "execution_count": 4,
      "metadata": {
        "id": "6-uhYmHULDnM"
      },
      "outputs": [],
      "source": [
        "import google.generativeai as genai\n",
        "\n",
        "# Configure api_key\n",
        "genai.configure(api_key=\"YOUR-API-KEY\")\n",
        "\n",
        "# Define Model Instance\n",
        "model = genai.GenerativeModel('gemini-pro')\n",
        "\n",
        "# Define function, which helps to execute any prompt\n",
        "def execute_prompt(prompt):\n",
        "  response = model.generate_content(prompt)\n",
        "  return response.text"
      ]
    },
    {
      "cell_type": "code",
      "execution_count": 5,
      "metadata": {
        "id": "zShRS-ikLdN2"
      },
      "outputs": [],
      "source": [
        "question = \"Find area of a circle ?\"\n",
        "\n",
        "response = execute_prompt(question)"
      ]
    },
    {
      "cell_type": "code",
      "execution_count": null,
      "metadata": {
        "colab": {
          "base_uri": "https://localhost:8080/",
          "height": 301
        },
        "id": "XhxEnrAeLr6N",
        "outputId": "1b0b85ea-ae32-4cc6-b9bc-cbd1aa8d1ae1"
      },
      "outputs": [
        {
          "data": {
            "text/markdown": [
              "The area of a circle is given by the formula:\n",
              "\n",
              "$$A = \\pi r^2$$\n",
              "\n",
              "Where:\n",
              "\n",
              "* A is the area of the circle in square units\n",
              "* r is the radius of the circle in units\n",
              "\n",
              "Example:\n",
              "\n",
              "To find the area of a circle with a radius of 5 units:\n",
              "\n",
              "$$A = \\pi (5)^2$$\n",
              "$$A = \\pi (25)$$\n",
              "$$A = 25\\pi$$\n",
              "$$A \\approx 78.54$$\n",
              "\n",
              "Therefore, the area of the circle is approximately 78.54 square units."
            ],
            "text/plain": [
              "<IPython.core.display.Markdown object>"
            ]
          },
          "execution_count": 4,
          "metadata": {},
          "output_type": "execute_result"
        }
      ],
      "source": [
        "from IPython.display import Markdown\n",
        "\n",
        "Markdown(response)"
      ]
    },
    {
      "cell_type": "markdown",
      "metadata": {
        "id": "tw-C6ZFzL1Vd"
      },
      "source": [
        "## Add comprehensive explanation of the topic\n",
        "\n",
        "\n",
        "\n",
        "*   Comprehensive explanation\n",
        "*   Detailed Solution Summary\n",
        "*   Practical Examples\n"
      ]
    },
    {
      "cell_type": "code",
      "execution_count": 6,
      "metadata": {
        "colab": {
          "base_uri": "https://localhost:8080/"
        },
        "id": "_hqdsf3cLwpY",
        "outputId": "70a23583-5e26-4e86-dcfd-3ff20a1843de"
      },
      "outputs": [
        {
          "name": "stdout",
          "output_type": "stream",
          "text": [
            "\n",
            "\n",
            "You're a dedicated student assistant ready to assist students. Please provide a comprehensive explanation of the following topic, including detailed solution summaries, practical examples,\n",
            "and step-by-step problem-solving methods. \n",
            "\n",
            " Find area of a circle ?\n",
            "\n"
          ]
        }
      ],
      "source": [
        "base_instruction = \"\"\"\n",
        "You're a dedicated student assistant ready to assist students. \\\n",
        "Please provide a comprehensive explanation of the following topic, \\\n",
        "including detailed solution summaries, practical examples,\n",
        "and step-by-step problem-solving methods.\"\"\"\n",
        "\n",
        "question = \"Find area of a circle ?\"\n",
        "\n",
        "prompt = f\"\"\"\n",
        "{base_instruction} \\n\\n {question}\n",
        "\"\"\"\n",
        "print(prompt)"
      ]
    },
    {
      "cell_type": "code",
      "execution_count": 7,
      "metadata": {
        "id": "dClzZA1SMrZT"
      },
      "outputs": [],
      "source": [
        "response = execute_prompt(prompt)"
      ]
    },
    {
      "cell_type": "code",
      "execution_count": 10,
      "metadata": {
        "colab": {
          "base_uri": "https://localhost:8080/",
          "height": 827
        },
        "id": "ECdW2MBZMvZ1",
        "outputId": "a794119c-5eab-4db5-f0a1-efa4672a77ec"
      },
      "outputs": [
        {
          "data": {
            "text/markdown": [
              "**Concept: Area of a Circle**\n",
              "\n",
              "The area of a circle is the amount of space it occupies on a flat surface. It is calculated using the formula:\n",
              "\n",
              "```\n",
              "Area = πr²\n",
              "```\n",
              "\n",
              "where:\n",
              "\n",
              "* π (pi) is a mathematical constant approximately equal to 3.14\n",
              "* r is the radius of the circle (distance from the center to any point on the circle)\n",
              "\n",
              "**Step-by-Step Problem-Solving Method:**\n",
              "\n",
              "**1. Identify the radius (r)**\n",
              "\n",
              "* Measure or find the radius of the circle from its center to any point on the circle.\n",
              "\n",
              "**2. Calculate the area**\n",
              "\n",
              "* Substitute the value of r into the formula: Area = πr²\n",
              "* Multiply π by r² to get the area.\n",
              "\n",
              "**Practical Examples:**\n",
              "\n",
              "**Example 1:**\n",
              "\n",
              "Find the area of a circle with a radius of 5 cm.\n",
              "\n",
              "* Area = πr²\n",
              "* Area = π(5 cm)²\n",
              "* Area = π(25 cm²)\n",
              "* Area ≈ 78.54 cm²\n",
              "\n",
              "**Example 2:**\n",
              "\n",
              "A pizza has a diameter of 12 inches. What is the area of the pizza?\n",
              "\n",
              "* Radius = Diameter/2\n",
              "* Radius = 12 in/2\n",
              "* Radius = 6 in\n",
              "* Area = πr²\n",
              "* Area = π(6 in)²\n",
              "* Area ≈ 113.10 in²\n",
              "\n",
              "**Detailed Solution Summary:**\n",
              "\n",
              "**1. Using the formula:**\n",
              "\n",
              "* Area = πr²\n",
              "* Area = (3.14)(r)²\n",
              "* Area = 3.14r²\n",
              "\n",
              "**2. Evaluating the expression:**\n",
              "\n",
              "* Substitute the value of r into the formula.\n",
              "* Multiply π by r² to find the area.\n",
              "\n",
              "**3. Units of measurement:**\n",
              "\n",
              "* The area of a circle is typically measured in square units, such as square centimeters (cm²), square inches (in²), or square meters (m²).\n",
              "* Ensure that the radius is expressed in the same units as the desired area units."
            ],
            "text/plain": [
              "<IPython.core.display.Markdown object>"
            ]
          },
          "execution_count": 10,
          "metadata": {},
          "output_type": "execute_result"
        }
      ],
      "source": [
        "from IPython.display import Markdown\n",
        "Markdown(response)"
      ]
    },
    {
      "cell_type": "markdown",
      "metadata": {
        "id": "2-5QyF5-M4MH"
      },
      "source": [
        "## Homework 1\n",
        "\n",
        "\n",
        "\n",
        "*   Area of a rectangle\n",
        "*   Area of a right angle traingle\n",
        "\n"
      ]
    },
    {
      "cell_type": "markdown",
      "metadata": {
        "id": "s8UsOCrDNsMt"
      },
      "source": []
    },
    {
      "cell_type": "markdown",
      "metadata": {
        "id": "Fk2IpQnrNkD-"
      },
      "source": [
        "# Python Teaching Assistant\n",
        "\n",
        "\n",
        "\n",
        "*   Create a Python teaching assistant\n",
        "\n"
      ]
    },
    {
      "cell_type": "code",
      "execution_count": 11,
      "metadata": {
        "colab": {
          "base_uri": "https://localhost:8080/"
        },
        "id": "X_Ds8QKgMxr8",
        "outputId": "ca730d2e-3030-4d7d-d35a-a1f221c44d63"
      },
      "outputs": [
        {
          "name": "stdout",
          "output_type": "stream",
          "text": [
            "\n",
            "\n",
            "You're a dedicated python teaching assistant ready to assist students. Offer a comprehensive overview of the methods, delineating their functionalities, supplying sample code for each, and providing guidance on selecting the appropriate method for specific scenarios.\n",
            " \n",
            "\n",
            " Add two list ?\n",
            "\n"
          ]
        }
      ],
      "source": [
        "base_instuction = \"\"\"\n",
        "You're a dedicated python teaching assistant ready to assist students. \\\n",
        "Offer a comprehensive overview of the methods, \\\n",
        "delineating their functionalities, \\\n",
        "supplying sample code for each, \\\n",
        "and providing guidance on selecting the appropriate method for specific scenarios.\n",
        "\"\"\"\n",
        "\n",
        "question = \"Add two lists ?\"\n",
        "\n",
        "prompt = f\"\"\"\n",
        "{base_instuction} \\n\\n {question}\n",
        "\"\"\"\n",
        "\n",
        "print(prompt)"
      ]
    },
    {
      "cell_type": "code",
      "execution_count": 12,
      "metadata": {
        "id": "oHR0mHKbO6vx"
      },
      "outputs": [],
      "source": [
        "response = execute_prompt(prompt)"
      ]
    },
    {
      "cell_type": "code",
      "execution_count": 13,
      "metadata": {
        "colab": {
          "base_uri": "https://localhost:8080/",
          "height": 842
        },
        "id": "sYf6gDq1O-U2",
        "outputId": "45e11ee6-a7fa-4a35-c835-d10f67cb9af5"
      },
      "outputs": [
        {
          "data": {
            "text/markdown": [
              "**Concatenation Methods**\n",
              "\n",
              "**1. `+` Operator:**\n",
              "\n",
              "* **Functionality:** Concatenates multiple lists into a single list.\n",
              "* **Sample Code:**\n",
              "```python\n",
              "list1 = [1, 2, 3]\n",
              "list2 = ['a', 'b', 'c']\n",
              "list3 = list1 + list2\n",
              "print(list3)  # Output: [1, 2, 3, 'a', 'b', 'c']\n",
              "```\n",
              "\n",
              "**2. `extend()` Method:**\n",
              "\n",
              "* **Functionality:** Extends the current list by appending elements from another list.\n",
              "* **Sample Code:**\n",
              "```python\n",
              "list1 = [1, 2, 3]\n",
              "list2 = ['a', 'b', 'c']\n",
              "list1.extend(list2)\n",
              "print(list1)  # Output: [1, 2, 3, 'a', 'b', 'c']\n",
              "```\n",
              "\n",
              "**Selection Guidance:**\n",
              "\n",
              "* Use `+` operator for creating a new list with combined elements.\n",
              "* Use `extend()` to modify the existing list.\n",
              "\n",
              "**3. `list.append()` Method:**\n",
              "\n",
              "* **Functionality:** Appends a single element to the end of the list.\n",
              "* **Sample Code:**\n",
              "```python\n",
              "list1 = [1, 2, 3]\n",
              "list1.append(4)\n",
              "print(list1)  # Output: [1, 2, 3, 4]\n",
              "```\n",
              "\n",
              "**4. `list.insert()` Method:**\n",
              "\n",
              "* **Functionality:** Inserts an element at a specified index in the list.\n",
              "* **Sample Code:**\n",
              "```python\n",
              "list1 = [1, 2, 3]\n",
              "list1.insert(1, 'a')\n",
              "print(list1)  # Output: [1, 'a', 2, 3]\n",
              "```\n",
              "\n",
              "**Selection Guidance:**\n",
              "\n",
              "* Use `append()` to add an element to the end of the list.\n",
              "* Use `insert()` to add an element at a specific position.\n",
              "\n",
              "**5. `*` Operator:**\n",
              "\n",
              "* **Functionality:** Repeats a list multiple times.\n",
              "* **Sample Code:**\n",
              "```python\n",
              "list1 = [1, 2, 3]\n",
              "list2 = list1 * 3\n",
              "print(list2)  # Output: [1, 2, 3, 1, 2, 3, 1, 2, 3]\n",
              "```\n",
              "\n",
              "**Selection Guidance:**\n",
              "\n",
              "* Use `*` operator to create multiple copies of a list."
            ],
            "text/plain": [
              "<IPython.core.display.Markdown object>"
            ]
          },
          "execution_count": 13,
          "metadata": {},
          "output_type": "execute_result"
        }
      ],
      "source": [
        "Markdown(response)"
      ]
    },
    {
      "cell_type": "markdown",
      "metadata": {
        "id": "LgFGDt7cSN57"
      },
      "source": [
        "## Homework\n",
        "\n",
        "Find the second biggest number from a list"
      ]
    },
    {
      "cell_type": "code",
      "execution_count": null,
      "metadata": {
        "id": "vfPj4ubqPAbm"
      },
      "outputs": [],
      "source": []
    }
  ],
  "metadata": {
    "colab": {
      "collapsed_sections": [
        "C0BnTtyKKkOB",
        "2-5QyF5-M4MH",
        "Fk2IpQnrNkD-",
        "LgFGDt7cSN57"
      ],
      "provenance": []
    },
    "kernelspec": {
      "display_name": "Python 3",
      "name": "python3"
    },
    "language_info": {
      "name": "python"
    }
  },
  "nbformat": 4,
  "nbformat_minor": 0
}
